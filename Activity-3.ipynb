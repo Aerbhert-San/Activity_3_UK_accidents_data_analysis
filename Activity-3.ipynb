{
 "cells": [
  {
   "cell_type": "markdown",
   "id": "36a0cd69-e56f-4855-b3b9-1eb0d6bc3e49",
   "metadata": {},
   "source": [
    "<h1 style=\"font-size: 40px; font-weight: bold\">UK Road Accident Data Analysis</h1>\n",
    "<h2>2019-2020</h2>\n"
   ]
  },
  {
   "cell_type": "markdown",
   "id": "45a51dd2-f4e8-405e-a80f-27b8de8c82e8",
   "metadata": {},
   "source": [
    "<h1 style=\"font-size: 35px; font-weight: bold;\">#1. Data Preparation</h1>\n",
    "<h2>Analyst: Aerbhert John Sanchez</h2>"
   ]
  },
  {
   "cell_type": "code",
   "execution_count": 1,
   "id": "98945cbd-25e1-4a54-a021-bd96d67e18e4",
   "metadata": {},
   "outputs": [],
   "source": [
    "import numpy as np\n",
    "import pandas as pd\n",
    "import matplotlib.pyplot as plt\n",
    "import seaborn as sns\n",
    "from scipy.stats import f_oneway\n",
    "from IPython.display import display, HTML\n",
    "from IPython.display import display, Markdown\n",
    "import warnings\n",
    "warnings.filterwarnings(\"ignore\")"
   ]
  },
  {
   "cell_type": "code",
   "execution_count": 2,
   "id": "33ab0a90",
   "metadata": {},
   "outputs": [],
   "source": [
    "def print(*args, sep=' ', end='\\n', **kwargs):\n",
    "    output = sep.join(map(str, args)) + end\n",
    "    styled_output = f'<p style=\"font-size: 20px; font-weight: bold\">{output}</p>'\n",
    "    display(HTML(styled_output))"
   ]
  },
  {
   "cell_type": "code",
   "execution_count": 3,
   "id": "8b876af9-cd5e-4f6f-9330-6d8eb63b5e28",
   "metadata": {
    "scrolled": true
   },
   "outputs": [
    {
     "data": {
      "text/html": [
       "<div>\n",
       "<style scoped>\n",
       "    .dataframe tbody tr th:only-of-type {\n",
       "        vertical-align: middle;\n",
       "    }\n",
       "\n",
       "    .dataframe tbody tr th {\n",
       "        vertical-align: top;\n",
       "    }\n",
       "\n",
       "    .dataframe thead th {\n",
       "        text-align: right;\n",
       "    }\n",
       "</style>\n",
       "<table border=\"1\" class=\"dataframe\">\n",
       "  <thead>\n",
       "    <tr style=\"text-align: right;\">\n",
       "      <th></th>\n",
       "      <th>Index</th>\n",
       "      <th>Accident_Severity</th>\n",
       "      <th>Accident Date</th>\n",
       "      <th>Latitude</th>\n",
       "      <th>Light_Conditions</th>\n",
       "      <th>District Area</th>\n",
       "      <th>Longitude</th>\n",
       "      <th>Number_of_Casualties</th>\n",
       "      <th>Number_of_Vehicles</th>\n",
       "      <th>Road_Surface_Conditions</th>\n",
       "      <th>Road_Type</th>\n",
       "      <th>Urban_or_Rural_Area</th>\n",
       "      <th>Weather_Conditions</th>\n",
       "      <th>Vehicle_Type</th>\n",
       "    </tr>\n",
       "  </thead>\n",
       "  <tbody>\n",
       "    <tr>\n",
       "      <th>0</th>\n",
       "      <td>200701BS64157</td>\n",
       "      <td>Serious</td>\n",
       "      <td>05-06-2019</td>\n",
       "      <td>51.506187</td>\n",
       "      <td>Darkness - lights lit</td>\n",
       "      <td>Kensington and Chelsea</td>\n",
       "      <td>-0.209082</td>\n",
       "      <td>1</td>\n",
       "      <td>2</td>\n",
       "      <td>Dry</td>\n",
       "      <td>Single carriageway</td>\n",
       "      <td>Urban</td>\n",
       "      <td>Fine no high winds</td>\n",
       "      <td>Car</td>\n",
       "    </tr>\n",
       "    <tr>\n",
       "      <th>1</th>\n",
       "      <td>200701BS65737</td>\n",
       "      <td>Serious</td>\n",
       "      <td>02-07-2019</td>\n",
       "      <td>51.495029</td>\n",
       "      <td>Daylight</td>\n",
       "      <td>Kensington and Chelsea</td>\n",
       "      <td>-0.173647</td>\n",
       "      <td>1</td>\n",
       "      <td>2</td>\n",
       "      <td>Wet or damp</td>\n",
       "      <td>Single carriageway</td>\n",
       "      <td>Urban</td>\n",
       "      <td>Raining no high winds</td>\n",
       "      <td>Car</td>\n",
       "    </tr>\n",
       "    <tr>\n",
       "      <th>2</th>\n",
       "      <td>200701BS66127</td>\n",
       "      <td>Serious</td>\n",
       "      <td>26-08-2019</td>\n",
       "      <td>51.517715</td>\n",
       "      <td>Darkness - lighting unknown</td>\n",
       "      <td>Kensington and Chelsea</td>\n",
       "      <td>-0.210215</td>\n",
       "      <td>1</td>\n",
       "      <td>3</td>\n",
       "      <td>Dry</td>\n",
       "      <td>NaN</td>\n",
       "      <td>Urban</td>\n",
       "      <td>NaN</td>\n",
       "      <td>Taxi/Private hire car</td>\n",
       "    </tr>\n",
       "    <tr>\n",
       "      <th>3</th>\n",
       "      <td>200701BS66128</td>\n",
       "      <td>Serious</td>\n",
       "      <td>16-08-2019</td>\n",
       "      <td>51.495478</td>\n",
       "      <td>Daylight</td>\n",
       "      <td>Kensington and Chelsea</td>\n",
       "      <td>-0.202731</td>\n",
       "      <td>1</td>\n",
       "      <td>4</td>\n",
       "      <td>Dry</td>\n",
       "      <td>Single carriageway</td>\n",
       "      <td>Urban</td>\n",
       "      <td>Fine no high winds</td>\n",
       "      <td>Bus or coach (17 or more pass seats)</td>\n",
       "    </tr>\n",
       "    <tr>\n",
       "      <th>4</th>\n",
       "      <td>200701BS66837</td>\n",
       "      <td>Slight</td>\n",
       "      <td>03-09-2019</td>\n",
       "      <td>51.488576</td>\n",
       "      <td>Darkness - lights lit</td>\n",
       "      <td>Kensington and Chelsea</td>\n",
       "      <td>-0.192487</td>\n",
       "      <td>1</td>\n",
       "      <td>2</td>\n",
       "      <td>Dry</td>\n",
       "      <td>NaN</td>\n",
       "      <td>Urban</td>\n",
       "      <td>NaN</td>\n",
       "      <td>Other vehicle</td>\n",
       "    </tr>\n",
       "    <tr>\n",
       "      <th>...</th>\n",
       "      <td>...</td>\n",
       "      <td>...</td>\n",
       "      <td>...</td>\n",
       "      <td>...</td>\n",
       "      <td>...</td>\n",
       "      <td>...</td>\n",
       "      <td>...</td>\n",
       "      <td>...</td>\n",
       "      <td>...</td>\n",
       "      <td>...</td>\n",
       "      <td>...</td>\n",
       "      <td>...</td>\n",
       "      <td>...</td>\n",
       "      <td>...</td>\n",
       "    </tr>\n",
       "    <tr>\n",
       "      <th>660674</th>\n",
       "      <td>201091NM01760</td>\n",
       "      <td>Slight</td>\n",
       "      <td>18-02-2022</td>\n",
       "      <td>57.374005</td>\n",
       "      <td>Daylight</td>\n",
       "      <td>Highland</td>\n",
       "      <td>-3.467828</td>\n",
       "      <td>2</td>\n",
       "      <td>1</td>\n",
       "      <td>Dry</td>\n",
       "      <td>Single carriageway</td>\n",
       "      <td>Rural</td>\n",
       "      <td>Fine no high winds</td>\n",
       "      <td>Car</td>\n",
       "    </tr>\n",
       "    <tr>\n",
       "      <th>660675</th>\n",
       "      <td>201091NM01881</td>\n",
       "      <td>Slight</td>\n",
       "      <td>21-02-2022</td>\n",
       "      <td>57.232273</td>\n",
       "      <td>Darkness - no lighting</td>\n",
       "      <td>Highland</td>\n",
       "      <td>-3.809281</td>\n",
       "      <td>1</td>\n",
       "      <td>1</td>\n",
       "      <td>Frost or ice</td>\n",
       "      <td>Single carriageway</td>\n",
       "      <td>Rural</td>\n",
       "      <td>Fine no high winds</td>\n",
       "      <td>Car</td>\n",
       "    </tr>\n",
       "    <tr>\n",
       "      <th>660676</th>\n",
       "      <td>201091NM01935</td>\n",
       "      <td>Slight</td>\n",
       "      <td>23-02-2022</td>\n",
       "      <td>57.585044</td>\n",
       "      <td>Daylight</td>\n",
       "      <td>Highland</td>\n",
       "      <td>-3.862727</td>\n",
       "      <td>1</td>\n",
       "      <td>3</td>\n",
       "      <td>Frost or ice</td>\n",
       "      <td>Single carriageway</td>\n",
       "      <td>Rural</td>\n",
       "      <td>Fine no high winds</td>\n",
       "      <td>Car</td>\n",
       "    </tr>\n",
       "    <tr>\n",
       "      <th>660677</th>\n",
       "      <td>201091NM01964</td>\n",
       "      <td>Serious</td>\n",
       "      <td>23-02-2022</td>\n",
       "      <td>57.214898</td>\n",
       "      <td>Darkness - no lighting</td>\n",
       "      <td>Highland</td>\n",
       "      <td>-3.823997</td>\n",
       "      <td>1</td>\n",
       "      <td>2</td>\n",
       "      <td>Wet or damp</td>\n",
       "      <td>Single carriageway</td>\n",
       "      <td>Rural</td>\n",
       "      <td>Fine no high winds</td>\n",
       "      <td>Motorcycle over 500cc</td>\n",
       "    </tr>\n",
       "    <tr>\n",
       "      <th>660678</th>\n",
       "      <td>201091NM02142</td>\n",
       "      <td>Serious</td>\n",
       "      <td>28-02-2022</td>\n",
       "      <td>57.575210</td>\n",
       "      <td>Daylight</td>\n",
       "      <td>Highland</td>\n",
       "      <td>-3.895673</td>\n",
       "      <td>1</td>\n",
       "      <td>1</td>\n",
       "      <td>Wet or damp</td>\n",
       "      <td>Dual carriageway</td>\n",
       "      <td>Rural</td>\n",
       "      <td>Snowing no high winds</td>\n",
       "      <td>Car</td>\n",
       "    </tr>\n",
       "  </tbody>\n",
       "</table>\n",
       "<p>660679 rows × 14 columns</p>\n",
       "</div>"
      ],
      "text/plain": [
       "                Index Accident_Severity Accident Date   Latitude  \\\n",
       "0       200701BS64157           Serious    05-06-2019  51.506187   \n",
       "1       200701BS65737           Serious    02-07-2019  51.495029   \n",
       "2       200701BS66127           Serious    26-08-2019  51.517715   \n",
       "3       200701BS66128           Serious    16-08-2019  51.495478   \n",
       "4       200701BS66837            Slight    03-09-2019  51.488576   \n",
       "...               ...               ...           ...        ...   \n",
       "660674  201091NM01760            Slight    18-02-2022  57.374005   \n",
       "660675  201091NM01881            Slight    21-02-2022  57.232273   \n",
       "660676  201091NM01935            Slight    23-02-2022  57.585044   \n",
       "660677  201091NM01964           Serious    23-02-2022  57.214898   \n",
       "660678  201091NM02142           Serious    28-02-2022  57.575210   \n",
       "\n",
       "                   Light_Conditions           District Area  Longitude  \\\n",
       "0             Darkness - lights lit  Kensington and Chelsea  -0.209082   \n",
       "1                          Daylight  Kensington and Chelsea  -0.173647   \n",
       "2       Darkness - lighting unknown  Kensington and Chelsea  -0.210215   \n",
       "3                          Daylight  Kensington and Chelsea  -0.202731   \n",
       "4             Darkness - lights lit  Kensington and Chelsea  -0.192487   \n",
       "...                             ...                     ...        ...   \n",
       "660674                     Daylight                Highland  -3.467828   \n",
       "660675       Darkness - no lighting                Highland  -3.809281   \n",
       "660676                     Daylight                Highland  -3.862727   \n",
       "660677       Darkness - no lighting                Highland  -3.823997   \n",
       "660678                     Daylight                Highland  -3.895673   \n",
       "\n",
       "        Number_of_Casualties  Number_of_Vehicles Road_Surface_Conditions  \\\n",
       "0                          1                   2                     Dry   \n",
       "1                          1                   2             Wet or damp   \n",
       "2                          1                   3                     Dry   \n",
       "3                          1                   4                     Dry   \n",
       "4                          1                   2                     Dry   \n",
       "...                      ...                 ...                     ...   \n",
       "660674                     2                   1                     Dry   \n",
       "660675                     1                   1            Frost or ice   \n",
       "660676                     1                   3            Frost or ice   \n",
       "660677                     1                   2             Wet or damp   \n",
       "660678                     1                   1             Wet or damp   \n",
       "\n",
       "                 Road_Type Urban_or_Rural_Area     Weather_Conditions  \\\n",
       "0       Single carriageway               Urban     Fine no high winds   \n",
       "1       Single carriageway               Urban  Raining no high winds   \n",
       "2                      NaN               Urban                    NaN   \n",
       "3       Single carriageway               Urban     Fine no high winds   \n",
       "4                      NaN               Urban                    NaN   \n",
       "...                    ...                 ...                    ...   \n",
       "660674  Single carriageway               Rural     Fine no high winds   \n",
       "660675  Single carriageway               Rural     Fine no high winds   \n",
       "660676  Single carriageway               Rural     Fine no high winds   \n",
       "660677  Single carriageway               Rural     Fine no high winds   \n",
       "660678    Dual carriageway               Rural  Snowing no high winds   \n",
       "\n",
       "                                Vehicle_Type  \n",
       "0                                        Car  \n",
       "1                                        Car  \n",
       "2                      Taxi/Private hire car  \n",
       "3       Bus or coach (17 or more pass seats)  \n",
       "4                              Other vehicle  \n",
       "...                                      ...  \n",
       "660674                                   Car  \n",
       "660675                                   Car  \n",
       "660676                                   Car  \n",
       "660677                 Motorcycle over 500cc  \n",
       "660678                                   Car  \n",
       "\n",
       "[660679 rows x 14 columns]"
      ]
     },
     "execution_count": 3,
     "metadata": {},
     "output_type": "execute_result"
    }
   ],
   "source": [
    "UK_accident = pd.read_csv('accident_data.csv')\n",
    "UK_accident"
   ]
  },
  {
   "cell_type": "markdown",
   "id": "a81d46c0-a385-48cc-b0c3-1c81440e6685",
   "metadata": {},
   "source": [
    "<h1 style=\"font-size: 35px; font-weight: bold\";>#2 Data Cleansing</h1>"
   ]
  },
  {
   "cell_type": "markdown",
   "id": "7329a788-7dcf-4f59-bf5f-61a1eb1a7a47",
   "metadata": {},
   "source": [
    "<p><strong>Clearing spaces and cleaning the date format</p>"
   ]
  },
  {
   "cell_type": "code",
   "execution_count": 4,
   "id": "5b3ef4cf-0e6d-4819-8365-dcfa0cbd9c87",
   "metadata": {},
   "outputs": [],
   "source": [
    "UK_accident['Accident Date'] = UK_accident['Accident Date'].str.strip()\n",
    "UK_accident['Accident Date'] = UK_accident['Accident Date'].str.replace(\"/\",\"-\")\n",
    "\n"
   ]
  },
  {
   "cell_type": "markdown",
   "id": "4784b598-1b2f-46d5-8570-7d52e8fa07e1",
   "metadata": {},
   "source": [
    "<p><strong>Clearing Null Values<strong></p>"
   ]
  },
  {
   "cell_type": "code",
   "execution_count": 5,
   "id": "3d297e5e-23f2-4ac5-b1d8-b09242161fee",
   "metadata": {},
   "outputs": [
    {
     "data": {
      "text/plain": [
       "0    Urban\n",
       "Name: Urban_or_Rural_Area, dtype: object"
      ]
     },
     "execution_count": 5,
     "metadata": {},
     "output_type": "execute_result"
    }
   ],
   "source": [
    "UK_accident['Latitude'].median()\n",
    "UK_accident['Longitude'].median()\n",
    "UK_accident['Road_Surface_Conditions'].mode()\n",
    "UK_accident['Road_Type'].mode()\n",
    "UK_accident['Urban_or_Rural_Area'].mode()"
   ]
  },
  {
   "cell_type": "code",
   "execution_count": 6,
   "id": "9b17d406-39f2-4976-93e8-f0bd6f54842f",
   "metadata": {},
   "outputs": [],
   "source": [
    "UK_accident['Latitude'] = UK_accident['Latitude'].fillna(UK_accident['Latitude'].median())\n",
    "UK_accident['Longitude'] = UK_accident['Longitude'].fillna(UK_accident['Longitude'].median())\n",
    "UK_accident['Road_Surface_Conditions'] = UK_accident['Road_Surface_Conditions'].fillna(UK_accident['Road_Surface_Conditions'].mode()[0])\n",
    "UK_accident['Road_Type'] = UK_accident['Road_Type'].fillna('unknown road type')\n",
    "UK_accident['Urban_or_Rural_Area'] = UK_accident['Urban_or_Rural_Area'].fillna(UK_accident['Urban_or_Rural_Area'].mode()[0])\n",
    "UK_accident['Weather_Conditions'] = UK_accident['Weather_Conditions'].fillna('unknown weather condition')"
   ]
  },
  {
   "cell_type": "code",
   "execution_count": 7,
   "id": "ba15e0c2-449e-4d08-acc2-25e14ebeb0ca",
   "metadata": {},
   "outputs": [
    {
     "data": {
      "text/plain": [
       "Index                      0\n",
       "Accident_Severity          0\n",
       "Accident Date              0\n",
       "Latitude                   0\n",
       "Light_Conditions           0\n",
       "District Area              0\n",
       "Longitude                  0\n",
       "Number_of_Casualties       0\n",
       "Number_of_Vehicles         0\n",
       "Road_Surface_Conditions    0\n",
       "Road_Type                  0\n",
       "Urban_or_Rural_Area        0\n",
       "Weather_Conditions         0\n",
       "Vehicle_Type               0\n",
       "dtype: int64"
      ]
     },
     "execution_count": 7,
     "metadata": {},
     "output_type": "execute_result"
    }
   ],
   "source": [
    "UK_accident.isnull().sum()"
   ]
  },
  {
   "cell_type": "markdown",
   "id": "e61a005b-d0a8-4e22-8f25-074443977c07",
   "metadata": {},
   "source": [
    "<p><strong>Changing Data Types<strong></p>"
   ]
  },
  {
   "cell_type": "code",
   "execution_count": 8,
   "id": "eeb1df81-6734-4921-83bb-67da4bc47bfb",
   "metadata": {},
   "outputs": [],
   "source": [
    "UK_accident['Accident_Severity'] = UK_accident['Accident_Severity'].astype(\"category\")\n",
    "UK_accident['Accident Date'] = pd.to_datetime(UK_accident['Accident Date'], dayfirst = True, errors=\"coerce\")\n",
    "UK_accident['Light_Conditions'] = UK_accident['Light_Conditions'].astype(\"category\")\n",
    "UK_accident['District Area'] = UK_accident['District Area'].astype(\"category\")\n",
    "UK_accident['Road_Surface_Conditions'] = UK_accident['Road_Surface_Conditions'].astype(\"category\")\n",
    "UK_accident['Road_Type'] = UK_accident['Road_Type'].astype(\"category\")\n",
    "UK_accident['Urban_or_Rural_Area'] = UK_accident['Urban_or_Rural_Area'].astype(\"category\")\n",
    "UK_accident['Weather_Conditions'] = UK_accident['Weather_Conditions'].astype(\"category\")\n",
    "UK_accident['Vehicle_Type'] = UK_accident['Vehicle_Type'].astype(\"category\")\n",
    "UK_accident['Latitude'] = UK_accident['Latitude'].astype(\"category\")\n",
    "UK_accident['Longitude'] = UK_accident['Longitude'].astype(\"category\")"
   ]
  },
  {
   "cell_type": "code",
   "execution_count": 9,
   "id": "804e6f74-9c3d-46ba-b319-7dcfa6d21782",
   "metadata": {},
   "outputs": [
    {
     "data": {
      "text/plain": [
       "Index                              object\n",
       "Accident_Severity                category\n",
       "Accident Date              datetime64[ns]\n",
       "Latitude                         category\n",
       "Light_Conditions                 category\n",
       "District Area                    category\n",
       "Longitude                        category\n",
       "Number_of_Casualties                int64\n",
       "Number_of_Vehicles                  int64\n",
       "Road_Surface_Conditions          category\n",
       "Road_Type                        category\n",
       "Urban_or_Rural_Area              category\n",
       "Weather_Conditions               category\n",
       "Vehicle_Type                     category\n",
       "dtype: object"
      ]
     },
     "execution_count": 9,
     "metadata": {},
     "output_type": "execute_result"
    }
   ],
   "source": [
    "UK_accident.dtypes"
   ]
  },
  {
   "cell_type": "markdown",
   "id": "c8f9b385-f440-499b-a720-cbe3863c0449",
   "metadata": {},
   "source": [
    "<p><strong>Making the Date Divided in Different Formats</p>"
   ]
  },
  {
   "cell_type": "code",
   "execution_count": 10,
   "id": "8dc9220f-1e8b-45d0-8701-b82435a67b2b",
   "metadata": {},
   "outputs": [],
   "source": [
    "UK_day= UK_accident['Day']= UK_accident['Accident Date'].dt.day\n",
    "UK_month= UK_accident['Month']= UK_accident['Accident Date'].dt.month\n",
    "UK_year= UK_accident['Year']= UK_accident['Accident Date'].dt.year\n",
    "UK_week= UK_accident['DayOfWeek']= UK_accident['Accident Date'].dt.dayofweek"
   ]
  },
  {
   "cell_type": "code",
   "execution_count": 11,
   "id": "29ca717c-4938-45dc-9db9-3767ca11ee07",
   "metadata": {},
   "outputs": [
    {
     "data": {
      "text/plain": [
       "Accident Date\n",
       "11    60424\n",
       "10    59580\n",
       "7     57445\n",
       "6     56481\n",
       "9     56455\n",
       "5     56352\n",
       "3     54086\n",
       "8     53913\n",
       "1     52872\n",
       "12    51836\n",
       "4     51744\n",
       "2     49491\n",
       "Name: count, dtype: int64"
      ]
     },
     "execution_count": 11,
     "metadata": {},
     "output_type": "execute_result"
    }
   ],
   "source": [
    "UK_month.value_counts().sort_values(ascending=False)"
   ]
  },
  {
   "cell_type": "markdown",
   "id": "78bfe0e0",
   "metadata": {},
   "source": [
    "<h1 style=\"font-size: 35px; font-weight: bold\";>#3. Insights</h1>"
   ]
  },
  {
   "cell_type": "markdown",
   "id": "8cc1c4d7",
   "metadata": {},
   "source": [
    "<p style=\"font-size: 17px; font-weight: bold;\">1. What are the percentage of severity of UK accidents?</p>"
   ]
  },
  {
   "cell_type": "code",
   "execution_count": 12,
   "id": "8a70ec79-9942-4389-a193-0170f4d8ea01",
   "metadata": {},
   "outputs": [],
   "source": [
    "severity = UK_accident['Accident_Severity']"
   ]
  },
  {
   "cell_type": "code",
   "execution_count": 13,
   "id": "5159625d",
   "metadata": {},
   "outputs": [
    {
     "data": {
      "text/plain": [
       "Accident_Severity\n",
       "Slight     563801\n",
       "Serious     88217\n",
       "Fatal        8661\n",
       "Name: count, dtype: int64"
      ]
     },
     "execution_count": 13,
     "metadata": {},
     "output_type": "execute_result"
    }
   ],
   "source": [
    "severity.value_counts()"
   ]
  },
  {
   "cell_type": "code",
   "execution_count": 14,
   "id": "2026bd0d",
   "metadata": {},
   "outputs": [],
   "source": [
    "slight_severity= (severity == \"Slight\").sum()\n",
    "serious_severity= (severity == \"Serious\").sum()\n",
    "fatal_severity= (severity == \"Fatal\").sum()"
   ]
  },
  {
   "cell_type": "code",
   "execution_count": 15,
   "id": "89f0cfe1",
   "metadata": {},
   "outputs": [],
   "source": [
    "sum_of_all_accidents = slight_severity + serious_severity + fatal_severity"
   ]
  },
  {
   "cell_type": "code",
   "execution_count": 16,
   "id": "a29f9d5e",
   "metadata": {},
   "outputs": [],
   "source": [
    "percent_slight = np.round(slight_severity / sum_of_all_accidents,3) * 100\n",
    "percent_serious = np.round(serious_severity / sum_of_all_accidents,3) * 100\n",
    "percent_fatal = np.round(fatal_severity / sum_of_all_accidents,3) * 100"
   ]
  },
  {
   "cell_type": "code",
   "execution_count": 17,
   "id": "72154bb9",
   "metadata": {},
   "outputs": [
    {
     "data": {
      "text/html": [
       "<p style=\"font-size: 20px; font-weight: bold\">The severity of accidents in the UK is distributed as follows: Slight: 85.3%, Serious: 13.4%, Fatal: 1.3%. Making slight accidents are most common.\n",
       "</p>"
      ],
      "text/plain": [
       "<IPython.core.display.HTML object>"
      ]
     },
     "metadata": {},
     "output_type": "display_data"
    }
   ],
   "source": [
    "print(f\"The severity of accidents in the UK is distributed as follows: \"\n",
    "      f\"Slight: {percent_slight}%, Serious: {percent_serious}%, Fatal: {percent_fatal}%. \"\n",
    "    f\"Making slight accidents are most common.\")"
   ]
  },
  {
   "cell_type": "markdown",
   "id": "6fea6343",
   "metadata": {},
   "source": [
    "<div style=\"width: 100%; height: 20px; background-color: green;\"></div>"
   ]
  },
  {
   "cell_type": "markdown",
   "id": "fb0c0045",
   "metadata": {},
   "source": [
    "<p style=\"font-size: 17px; font-weight: bold;\">2. What is the percentage of severity of accidents per vehicles?</p>"
   ]
  },
  {
   "cell_type": "code",
   "execution_count": 18,
   "id": "76c29e3a",
   "metadata": {},
   "outputs": [],
   "source": [
    "vehicles = UK_accident[\"Vehicle_Type\"]"
   ]
  },
  {
   "cell_type": "code",
   "execution_count": 19,
   "id": "df7bb02a",
   "metadata": {},
   "outputs": [
    {
     "data": {
      "text/plain": [
       "Vehicle_Type\n",
       "Car                                      497992\n",
       "Van / Goods 3.5 tonnes mgw or under       34160\n",
       "Bus or coach (17 or more pass seats)      25878\n",
       "Motorcycle over 500cc                     25657\n",
       "Goods 7.5 tonnes mgw and over             17307\n",
       "Motorcycle 125cc and under                15269\n",
       "Taxi/Private hire car                     13294\n",
       "Motorcycle over 125cc and up to 500cc      7656\n",
       "Motorcycle 50cc and under                  7603\n",
       "Goods over 3.5t. and under 7.5t            6096\n",
       "Other vehicle                              5637\n",
       "Minibus (8 - 16 passenger seats)           1976\n",
       "Agricultural vehicle                       1947\n",
       "Pedal cycle                                 197\n",
       "Data missing or out of range                  6\n",
       "Ridden horse                                  4\n",
       "Name: count, dtype: int64"
      ]
     },
     "execution_count": 19,
     "metadata": {},
     "output_type": "execute_result"
    }
   ],
   "source": [
    "vehicles.value_counts()"
   ]
  },
  {
   "cell_type": "code",
   "execution_count": 20,
   "id": "dbbb082d",
   "metadata": {},
   "outputs": [],
   "source": [
    "vehicle_car = (UK_accident[\"Vehicle_Type\"] == \"Car\").sum()\n",
    "vehicle_van = (UK_accident[\"Vehicle_Type\"] == \"Van / Goods 3.5 tonnes mgw or under\").sum()\n",
    "vehicle_bus = (UK_accident[\"Vehicle_Type\"] == \"Bus or coach (17 or more pass seats)\").sum()\n",
    "vehicle_motor_500 = (UK_accident[\"Vehicle_Type\"] == \"Motorcycle over 500cc\").sum()\n",
    "vehicle_goods_7_5 = (UK_accident[\"Vehicle_Type\"] == \"Goods 7.5 tonnes mgw and over\").sum()\n",
    "vehicle_motor_125_down = (UK_accident[\"Vehicle_Type\"] == \"Motorcycle 125cc and under\").sum()\n",
    "vehicle_taxi = (UK_accident[\"Vehicle_Type\"] == \"Taxi/Private hire car\").sum()\n",
    "vehicle_motor_125_up = (UK_accident[\"Vehicle_Type\"] == \"Motorcycle over 125cc and up to 500cc\").sum()\n",
    "vehicle_motor_50 = (UK_accident[\"Vehicle_Type\"] == \"Motorcycle 50cc and under\").sum()\n",
    "vehicle_goods_3_5 = (UK_accident[\"Vehicle_Type\"] == \"Goods over 3.5t. and under 7.5t\").sum()\n",
    "vehicle_other = (UK_accident[\"Vehicle_Type\"] == \"Other vehicle\").sum()\n",
    "vehicle_minibus = (UK_accident[\"Vehicle_Type\"] == \"Minibus (8 - 16 passenger seats)\").sum()\n",
    "vehicle_agri = (UK_accident[\"Vehicle_Type\"] == \"Agricultural vehicle\").sum()\n",
    "vehicle_pedal = (UK_accident[\"Vehicle_Type\"] == \"Pedal cycle\").sum()\n",
    "vehicle_missing = (UK_accident[\"Vehicle_Type\"] == \"Data missing or out of range\").sum()\n",
    "vehicle_horse = (UK_accident[\"Vehicle_Type\"] == \"Ridden horse\").sum()"
   ]
  },
  {
   "cell_type": "code",
   "execution_count": 21,
   "id": "ce432f41",
   "metadata": {},
   "outputs": [],
   "source": [
    "car = (UK_accident['Accident_Severity']==\"Slight\").sum() & (UK_accident[\"Vehicle_Type\"] == \"Car\").sum()\n",
    "van =(UK_accident['Accident_Severity']==\"Slight\").sum() & vehicle_van\n",
    "bus = (UK_accident['Accident_Severity']==\"Slight\").sum() & vehicle_bus\n",
    "motor_500 = (UK_accident['Accident_Severity']==\"Slight\").sum() & vehicle_motor_500\n",
    "goods_7_5 = (UK_accident['Accident_Severity']==\"Slight\").sum() & vehicle_goods_7_5\n",
    "motor_125_down = (UK_accident['Accident_Severity']==\"Slight\").sum() & vehicle_motor_125_down\n",
    "taxi =(UK_accident['Accident_Severity']==\"Slight\").sum()  & vehicle_taxi\n",
    "motor_125_up = (UK_accident['Accident_Severity']==\"Slight\").sum() & vehicle_motor_125_up\n",
    "motor_50 = (UK_accident['Accident_Severity']==\"Slight\").sum() & vehicle_motor_50\n",
    "goods_3_5 = (UK_accident['Accident_Severity']==\"Slight\").sum() & vehicle_goods_3_5\n",
    "other =(UK_accident['Accident_Severity']==\"Slight\").sum() & vehicle_other\n",
    "minibus = (UK_accident['Accident_Severity']==\"Slight\").sum() & vehicle_minibus\n",
    "agri = (UK_accident['Accident_Severity']==\"Slight\").sum() & vehicle_agri\n",
    "pedal = (UK_accident['Accident_Severity']==\"Slight\").sum() & vehicle_pedal\n",
    "missing = (UK_accident['Accident_Severity']==\"Slight\").sum() & vehicle_missing\n",
    "horse = (UK_accident['Accident_Severity']==\"Slight\").sum() & vehicle_horse"
   ]
  },
  {
   "cell_type": "code",
   "execution_count": 22,
   "id": "ad3215f1-985b-47c6-9bb9-222813b706c8",
   "metadata": {},
   "outputs": [],
   "source": [
    "UK_slight= UK_accident[UK_accident[\"Accident_Severity\"] == \"Slight\"]"
   ]
  },
  {
   "cell_type": "code",
   "execution_count": 23,
   "id": "97e977d3-308e-4ae2-8f27-c5e9b1623377",
   "metadata": {},
   "outputs": [],
   "source": [
    "slight_vehicles = UK_slight[\"Vehicle_Type\"]"
   ]
  },
  {
   "cell_type": "code",
   "execution_count": 24,
   "id": "ac9ebcda-bf10-43d2-99a6-fbfcc281ce11",
   "metadata": {},
   "outputs": [
    {
     "data": {
      "text/plain": [
       "Vehicle_Type\n",
       "Car                                      424954\n",
       "Van / Goods 3.5 tonnes mgw or under       29139\n",
       "Bus or coach (17 or more pass seats)      22180\n",
       "Motorcycle over 500cc                     21861\n",
       "Goods 7.5 tonnes mgw and over             14770\n",
       "Motorcycle 125cc and under                13049\n",
       "Taxi/Private hire car                     11368\n",
       "Motorcycle over 125cc and up to 500cc      6537\n",
       "Motorcycle 50cc and under                  6494\n",
       "Goods over 3.5t. and under 7.5t            5172\n",
       "Other vehicle                              4800\n",
       "Minibus (8 - 16 passenger seats)           1671\n",
       "Agricultural vehicle                       1644\n",
       "Pedal cycle                                 152\n",
       "Data missing or out of range                  6\n",
       "Ridden horse                                  4\n",
       "Name: count, dtype: int64"
      ]
     },
     "execution_count": 24,
     "metadata": {},
     "output_type": "execute_result"
    }
   ],
   "source": [
    "slight_vehicles.value_counts()"
   ]
  },
  {
   "cell_type": "code",
   "execution_count": 72,
   "id": "ccdeaed5-153d-4210-99d9-9c4e537070df",
   "metadata": {},
   "outputs": [
    {
     "data": {
      "text/markdown": [
       "### Number of vehicles per type (as a percentage of the total):\n",
       "\n",
       "- Car: 75.4%\n",
       "- Van / Goods 3.5 tonnes mgw or under: 5.2%\n",
       "- Bus or coach (17 or more pass seats): 3.9%\n",
       "- Motorcycle over 500cc: 3.9%\n",
       "- Goods 7.5 tonnes mgw and over: 2.6%\n",
       "- Motorcycle 125cc and under: 2.3%\n",
       "- Taxi/Private hire car: 2.0%\n",
       "- Motorcycle over 125cc and up to 500cc: 1.2%\n",
       "- Motorcycle 50cc and under: 1.2%\n",
       "- Goods over 3.5t. and under 7.5t: 0.9%\n",
       "- Other vehicle: 0.9%\n",
       "- Minibus (8 - 16 passenger seats): 0.3%\n",
       "- Agricultural vehicle: 0.3%\n",
       "- Pedal cycle: 0.0%\n",
       "- Data missing or out of range: 0.0%\n",
       "- Ridden horse: 0.0%\n",
       "---\n",
       "### **Conclusion:**\n",
       "- The **Car** vehicle type has the highest percentage contribution among all vehicle types analyzed with **75.4%** of vehicles, indicating cars are the most prevalent vehicle type.\n"
      ],
      "text/plain": [
       "<IPython.core.display.Markdown object>"
      ]
     },
     "metadata": {},
     "output_type": "display_data"
    }
   ],
   "source": [
    "  display(Markdown(\n",
    "    f\"### Number of vehicles per type (as a percentage of the total):\\n\\n\"\n",
    "    f\"- Car: {np.round(424954 / 563801 * 100, 1)}%\\n\"\n",
    "    f\"- Van / Goods 3.5 tonnes mgw or under: {np.round(29139 / 563801 * 100, 1)}%\\n\"\n",
    "    f\"- Bus or coach (17 or more pass seats): {np.round(22180 / 563801 * 100, 1)}%\\n\"\n",
    "    f\"- Motorcycle over 500cc: {np.round(21861 / 563801 * 100, 1)}%\\n\"\n",
    "    f\"- Goods 7.5 tonnes mgw and over: {np.round(14770 / 563801 * 100, 1)}%\\n\"\n",
    "    f\"- Motorcycle 125cc and under: {np.round(13049 / 563801 * 100, 1)}%\\n\"\n",
    "    f\"- Taxi/Private hire car: {np.round(11368 / 563801 * 100, 1)}%\\n\"\n",
    "    f\"- Motorcycle over 125cc and up to 500cc: {np.round(6537 / 563801 * 100, 1)}%\\n\"\n",
    "    f\"- Motorcycle 50cc and under: {np.round(6494 / 563801 * 100, 1)}%\\n\"\n",
    "    f\"- Goods over 3.5t. and under 7.5t: {np.round(5172 / 563801 * 100, 1)}%\\n\"\n",
    "    f\"- Other vehicle: {np.round(4800 / 563801 * 100, 1)}%\\n\"\n",
    "    f\"- Minibus (8 - 16 passenger seats): {np.round(1671 / 563801 * 100, 1)}%\\n\"\n",
    "    f\"- Agricultural vehicle: {np.round(1644 / 563801 * 100, 1)}%\\n\"\n",
    "    f\"- Pedal cycle: {np.round(152 / 563801 * 100, 1)}%\\n\"\n",
    "    f\"- Data missing or out of range: {np.round(6 / 563801 * 100, 1)}%\\n\"\n",
    "    f\"- Ridden horse: {np.round(4 / 563801 * 100, 1)}%\\n\"\n",
    "    f\"---\\n\"\n",
    "    f\"### **Conclusion:**\\n\"\n",
    "    f\"- The **Car** vehicle type has the highest percentage contribution among all vehicle types analyzed with **{np.round(424954 / 563801 * 100, 1)}%** of vehicles, indicating cars are the most prevalent vehicle type.\\n\"\n",
    "))"
   ]
  },
  {
   "cell_type": "markdown",
   "id": "d6d3ae7e",
   "metadata": {},
   "source": [
    "<div style=\"width: 100%; height: 20px; background-color: green;\"></div>"
   ]
  },
  {
   "cell_type": "markdown",
   "id": "c01497e1",
   "metadata": {},
   "source": [
    "<h1>Date</h1>\n",
    "<p style=\"font-size: 17px; font-weight: bold;\">3. What month has most accident?</p>"
   ]
  },
  {
   "cell_type": "code",
   "execution_count": 25,
   "id": "7cc67bb9",
   "metadata": {},
   "outputs": [
    {
     "data": {
      "text/plain": [
       "Accident Date\n",
       "11    60424\n",
       "10    59580\n",
       "7     57445\n",
       "6     56481\n",
       "9     56455\n",
       "5     56352\n",
       "3     54086\n",
       "8     53913\n",
       "1     52872\n",
       "12    51836\n",
       "4     51744\n",
       "2     49491\n",
       "Name: count, dtype: int64"
      ]
     },
     "execution_count": 25,
     "metadata": {},
     "output_type": "execute_result"
    }
   ],
   "source": [
    "UK_month.value_counts().sort_values(ascending=False)"
   ]
  },
  {
   "cell_type": "code",
   "execution_count": 26,
   "id": "b6fa1f34",
   "metadata": {},
   "outputs": [
    {
     "data": {
      "text/html": [
       "<p style=\"font-size: 20px; font-weight: bold\">The month November has the most accident with 60424 accidents and having a percentage of 9.0%.\n",
       "</p>"
      ],
      "text/plain": [
       "<IPython.core.display.HTML object>"
      ]
     },
     "metadata": {},
     "output_type": "display_data"
    }
   ],
   "source": [
    "print(f\"The month November has the most accident with 60424 accidents and having a percentage of {np.round(60424/660679*100)}%.\")"
   ]
  },
  {
   "cell_type": "markdown",
   "id": "a222877d",
   "metadata": {},
   "source": [
    "<div style=\"width: 100%; height: 20px; background-color: green;\"></div>"
   ]
  },
  {
   "cell_type": "markdown",
   "id": "d5b38132",
   "metadata": {},
   "source": [
    "<p style=\"font-size: 17px; font-weight: bold;\">4. How many percent each year?</p>"
   ]
  },
  {
   "cell_type": "code",
   "execution_count": 27,
   "id": "d0cf63fe",
   "metadata": {},
   "outputs": [],
   "source": [
    "all_year = 182115 +  170591 + 163554 +  144419"
   ]
  },
  {
   "cell_type": "code",
   "execution_count": 28,
   "id": "544c44b9",
   "metadata": {},
   "outputs": [],
   "source": [
    "year_2019 =  182115\n",
    "year_2020 = 170591\n",
    "year_2021 =  163554\n",
    "year_2022 = 144419"
   ]
  },
  {
   "cell_type": "code",
   "execution_count": 29,
   "id": "ebb52eef",
   "metadata": {},
   "outputs": [
    {
     "data": {
      "text/markdown": [
       "### Yearly Accidents (as a percentage of the total):\n",
       "\n",
       "- **2019:**    27.6%\n",
       "- **2020:**    25.8%\n",
       "- **2021:**    24.8%\n",
       "- **2022:**    21.9%\n",
       "\n",
       "---\n",
       "### **Conclusion:**\n",
       "- The year **2019** has the highest percentage contribution among all the years analyzed, indicating it had the most significant share of incidents.\n"
      ],
      "text/plain": [
       "<IPython.core.display.Markdown object>"
      ]
     },
     "metadata": {},
     "output_type": "display_data"
    }
   ],
   "source": [
    "output_year= (\n",
    "    f\"### Yearly Accidents (as a percentage of the total):\\n\\n\"\n",
    "    f\"- **2019:**    {np.round((year_2019 / all_year) * 100, 1)}%\\n\"\n",
    "    f\"- **2020:**    {np.round((year_2020 / all_year) * 100, 1)}%\\n\"\n",
    "    f\"- **2021:**    {np.round((year_2021 / all_year) * 100, 1)}%\\n\"\n",
    "    f\"- **2022:**    {np.round((year_2022 / all_year) * 100, 1)}%\\n\\n\"\n",
    "    f\"---\\n\"\n",
    "    f\"### **Conclusion:**\\n\"\n",
    "    f\"- The year **2019** has the highest percentage contribution among all the years analyzed, indicating it had the most significant share of incidents.\\n\"\n",
    "   )\n",
    "\n",
    "\n",
    "display(Markdown(output_year))"
   ]
  },
  {
   "cell_type": "code",
   "execution_count": 30,
   "id": "379562d3-c4d5-4837-bc55-35c1d3d95348",
   "metadata": {},
   "outputs": [],
   "source": [
    "graph_year = UK_year.value_counts()"
   ]
  },
  {
   "cell_type": "code",
   "execution_count": null,
   "id": "1ff6abcf-69aa-4ad3-998a-e66876cbf8f2",
   "metadata": {},
   "outputs": [],
   "source": []
  },
  {
   "cell_type": "markdown",
   "id": "f2e1f823",
   "metadata": {},
   "source": [
    "<div style=\"width: 100%; height: 20px; background-color: green;\"></div>"
   ]
  },
  {
   "cell_type": "markdown",
   "id": "2600de28",
   "metadata": {},
   "source": [
    "<p style=\"font-size: 17px; font-weight: bold;\">5. How much percent difference is there between 2019 and 2020?</p>"
   ]
  },
  {
   "cell_type": "code",
   "execution_count": 31,
   "id": "4034e232",
   "metadata": {},
   "outputs": [
    {
     "data": {
      "text/plain": [
       "Accident Date\n",
       "2019    182115\n",
       "2020    170591\n",
       "2021    163554\n",
       "2022    144419\n",
       "Name: count, dtype: int64"
      ]
     },
     "execution_count": 31,
     "metadata": {},
     "output_type": "execute_result"
    }
   ],
   "source": [
    "UK_year.value_counts().sort_values(ascending=False)"
   ]
  },
  {
   "cell_type": "code",
   "execution_count": 32,
   "id": "8f2b44de",
   "metadata": {},
   "outputs": [
    {
     "data": {
      "text/html": [
       "<p style=\"font-size: 20px; font-weight: bold\">The year 2020 has decreased 6.8% accidents than the previous year 2019\n",
       "</p>"
      ],
      "text/plain": [
       "<IPython.core.display.HTML object>"
      ]
     },
     "metadata": {},
     "output_type": "display_data"
    }
   ],
   "source": [
    "print(f\"The year 2020 has decreased {np.round(((182115/170591)-1)*100,1)}% accidents than the previous year 2019\")"
   ]
  },
  {
   "cell_type": "markdown",
   "id": "453aacc3",
   "metadata": {},
   "source": [
    "<div style=\"width: 100%; height: 20px; background-color: green;\"></div>"
   ]
  },
  {
   "cell_type": "markdown",
   "id": "5cfc82ea",
   "metadata": {},
   "source": [
    "<p style=\"font-size: 17px; font-weight: bold;\">6. How much percent difference is there between 2020 and 2021?</p>"
   ]
  },
  {
   "cell_type": "code",
   "execution_count": 33,
   "id": "ab042b81",
   "metadata": {},
   "outputs": [
    {
     "data": {
      "text/html": [
       "<p style=\"font-size: 20px; font-weight: bold\">The year 2021 has decreased 4.3% accidents than the previous year 2020\n",
       "</p>"
      ],
      "text/plain": [
       "<IPython.core.display.HTML object>"
      ]
     },
     "metadata": {},
     "output_type": "display_data"
    }
   ],
   "source": [
    "print(f\"The year 2021 has decreased {np.round(((170591/163554)-1)*100,1)}% accidents than the previous year 2020\")"
   ]
  },
  {
   "cell_type": "markdown",
   "id": "b229ebfe",
   "metadata": {},
   "source": [
    "<div style=\"width: 100%; height: 20px; background-color: green;\"></div>"
   ]
  },
  {
   "cell_type": "markdown",
   "id": "0d6c9200",
   "metadata": {},
   "source": [
    "<p style=\"font-size: 17px; font-weight: bold;\">7. How much percent difference is there between 2021 and 2022?</p>"
   ]
  },
  {
   "cell_type": "code",
   "execution_count": 34,
   "id": "655ddf0c",
   "metadata": {},
   "outputs": [
    {
     "data": {
      "text/html": [
       "<p style=\"font-size: 20px; font-weight: bold\">The year 2022 has decreased 13.2% accidents than the previous year 2021\n",
       "</p>"
      ],
      "text/plain": [
       "<IPython.core.display.HTML object>"
      ]
     },
     "metadata": {},
     "output_type": "display_data"
    }
   ],
   "source": [
    "print(f\"The year 2022 has decreased {np.round(((163554/144419)-1)*100,1)}% accidents than the previous year 2021\")"
   ]
  },
  {
   "cell_type": "markdown",
   "id": "e0dc9d73",
   "metadata": {},
   "source": [
    "<div style=\"width: 100%; height: 20px; background-color: green;\"></div>"
   ]
  },
  {
   "cell_type": "markdown",
   "id": "6f395654",
   "metadata": {},
   "source": [
    "<h1>Road Conditions</h1>"
   ]
  },
  {
   "cell_type": "markdown",
   "id": "0fe6dd25",
   "metadata": {},
   "source": [
    "<p style=\"font-size: 17px; font-weight: bold;\">8. What road conditions most accidents occur?</p>"
   ]
  },
  {
   "cell_type": "code",
   "execution_count": 35,
   "id": "d8dc721b",
   "metadata": {},
   "outputs": [],
   "source": [
    "road = UK_accident[\"Road_Surface_Conditions\"]"
   ]
  },
  {
   "cell_type": "code",
   "execution_count": 36,
   "id": "a15b1b63",
   "metadata": {},
   "outputs": [],
   "source": [
    "dry_road = (road ==\"Dry\").sum()\n",
    "wet_road = (road ==\"Wet or damp\").sum()\n",
    "frost_road = (road ==\"Frost or ice\").sum()\n",
    "snow_road = (road ==\"Snow\").sum()\n",
    "flood_road = (road ==\"Flood over 3cm. deep\").sum()"
   ]
  },
  {
   "cell_type": "code",
   "execution_count": 37,
   "id": "4f11afe3",
   "metadata": {},
   "outputs": [],
   "source": [
    "all_road = dry_road + wet_road+frost_road+snow_road+flood_road"
   ]
  },
  {
   "cell_type": "code",
   "execution_count": 38,
   "id": "eec75445",
   "metadata": {},
   "outputs": [
    {
     "data": {
      "text/markdown": [
       "### Road Conditions where accidents happen (as a percentage of the total):\n",
       "\n",
       "- **Dry:**    67.9%\n",
       "- **Wet:**    28.3%\n",
       "- **Frost:**    2.8%\n",
       "- **Snow:**    0.9%\n",
       "\n",
       "- **Flooded:**    0.2%\n",
       "\n",
       "---\n",
       "### **Conclusion:**\n",
       "- The **Dry** road condition has the highest percentage contribution among all the road conditions analyzed with 67.9% of accidents happened, indicating most accidents occcur in dry road conditions.\n"
      ],
      "text/plain": [
       "<IPython.core.display.Markdown object>"
      ]
     },
     "metadata": {},
     "output_type": "display_data"
    }
   ],
   "source": [
    "output_road= (\n",
    "    f\"### Road Conditions where accidents happen (as a percentage of the total):\\n\\n\"\n",
    "    f\"- **Dry:**    {np.round((dry_road / all_road) * 100, 1)}%\\n\"\n",
    "    f\"- **Wet:**    {np.round((wet_road / all_road) * 100, 1)}%\\n\"\n",
    "    f\"- **Frost:**    {np.round((frost_road / all_road) * 100, 1)}%\\n\"\n",
    "    f\"- **Snow:**    {np.round((snow_road / all_road) * 100, 1)}%\\n\\n\"\n",
    "    f\"- **Flooded:**    {np.round((flood_road / all_road) * 100, 1)}%\\n\\n\"\n",
    "    f\"---\\n\"\n",
    "    f\"### **Conclusion:**\\n\"\n",
    "    f\"- The **Dry** road condition has the highest percentage contribution among all the road conditions analyzed with {np.round((dry_road / all_road) * 100, 1)}% of accidents happened, indicating most accidents occcur in dry road conditions.\\n\"\n",
    "   )\n",
    "\n",
    "\n",
    "display(Markdown(output_road))"
   ]
  },
  {
   "cell_type": "markdown",
   "id": "71376f28",
   "metadata": {},
   "source": [
    "<div style=\"width: 100%; height: 20px; background-color: green;\"></div>"
   ]
  },
  {
   "cell_type": "markdown",
   "id": "49bdaad2",
   "metadata": {},
   "source": [
    "<p style=\"font-size: 17px; font-weight: bold;\">9. What weather conditions does accidents mostly occur in dry road conditions?</p>"
   ]
  },
  {
   "cell_type": "code",
   "execution_count": 39,
   "id": "d738cfea",
   "metadata": {},
   "outputs": [
    {
     "data": {
      "text/plain": [
       "Weather_Conditions\n",
       "Fine no high winds           520885\n",
       "Raining no high winds         79696\n",
       "Other                         17150\n",
       "unknown weather condition     14128\n",
       "Raining + high winds           9615\n",
       "Fine + high winds              8554\n",
       "Snowing no high winds          6238\n",
       "Fog or mist                    3528\n",
       "Snowing + high winds            885\n",
       "Name: count, dtype: int64"
      ]
     },
     "execution_count": 39,
     "metadata": {},
     "output_type": "execute_result"
    }
   ],
   "source": [
    "UK_accident[\"Weather_Conditions\"].value_counts()"
   ]
  },
  {
   "cell_type": "code",
   "execution_count": 40,
   "id": "f9c737ad",
   "metadata": {},
   "outputs": [],
   "source": [
    "dry_weather = (UK_accident[\"Weather_Conditions\"] == \"Fine no high winds\").sum() & dry_road"
   ]
  },
  {
   "cell_type": "code",
   "execution_count": 41,
   "id": "edbb32aa",
   "metadata": {},
   "outputs": [
    {
     "data": {
      "text/plain": [
       "446497"
      ]
     },
     "execution_count": 41,
     "metadata": {},
     "output_type": "execute_result"
    }
   ],
   "source": [
    "dry_weather "
   ]
  },
  {
   "cell_type": "code",
   "execution_count": 42,
   "id": "dbfeba2a",
   "metadata": {},
   "outputs": [
    {
     "data": {
      "text/html": [
       "<p style=\"font-size: 20px; font-weight: bold\">67.58% of accidents occur during fine weather and dry road conditions. This suggests that despite seemingly safe environmental factors, such as clear skies and optimal road surfaces, accidents still occur.\n",
       "</p>"
      ],
      "text/plain": [
       "<IPython.core.display.HTML object>"
      ]
     },
     "metadata": {},
     "output_type": "display_data"
    }
   ],
   "source": [
    "percentage_dry = np.round(dry_weather / all_road * 100, 2)\n",
    "print(f\"{percentage_dry}% of accidents occur during fine weather and dry road conditions. \"\n",
    "      \"This suggests that despite seemingly safe environmental factors, such as clear skies and optimal road surfaces, accidents still occur.\")"
   ]
  },
  {
   "cell_type": "markdown",
   "id": "94a7d579",
   "metadata": {},
   "source": [
    "<div style=\"width: 100%; height: 20px; background-color: green;\"></div>"
   ]
  },
  {
   "cell_type": "markdown",
   "id": "001d629b",
   "metadata": {},
   "source": [
    "<p style=\"font-size: 17px; font-weight: bold;\">10. How much percentage of casualties per weather conditions?</p>"
   ]
  },
  {
   "cell_type": "code",
   "execution_count": 43,
   "id": "c9ee75ae",
   "metadata": {},
   "outputs": [
    {
     "data": {
      "text/plain": [
       "896568"
      ]
     },
     "execution_count": 43,
     "metadata": {},
     "output_type": "execute_result"
    }
   ],
   "source": [
    "UK_accident[\"Number_of_Casualties\"].sum()"
   ]
  },
  {
   "cell_type": "code",
   "execution_count": 44,
   "id": "8b81e15f",
   "metadata": {},
   "outputs": [],
   "source": [
    "fine_weather=(UK_accident[\"Weather_Conditions\"] == \"Fine no high winds\").sum()\n",
    "rain_no_wind_weather=(UK_accident[\"Weather_Conditions\"] == \"Raining no high winds\").sum()\n",
    "other_weather=(UK_accident[\"Weather_Conditions\"] == \"Other\").sum()\n",
    "unknown_weather=(UK_accident[\"Weather_Conditions\"] == \"unknown weather condition\").sum()\n",
    "rain_high_wind_weather=(UK_accident[\"Weather_Conditions\"] == \"Raining + high winds\").sum()\n",
    "fine_high_wind_weather=(UK_accident[\"Weather_Conditions\"] == \"Fine + high winds\").sum()\n",
    "snow_no_wind_weather=(UK_accident[\"Weather_Conditions\"] == \"Snowing no high winds\").sum()\n",
    "fog_weather=(UK_accident[\"Weather_Conditions\"] == \"Fog or mist\").sum()\n",
    "snow_high_wind_weather=(UK_accident[\"Weather_Conditions\"] == \"Snowing + high winds\").sum()"
   ]
  },
  {
   "cell_type": "code",
   "execution_count": 45,
   "id": "5cd25ade",
   "metadata": {},
   "outputs": [],
   "source": [
    "casualties_fine_weather = UK_accident[UK_accident[\"Weather_Conditions\"] == \"Fine no high winds\"][\"Number_of_Casualties\"].sum()\n",
    "casualties_rain_no_wind_weather = UK_accident[UK_accident[\"Weather_Conditions\"] == \"Raining no high winds\"][\"Number_of_Casualties\"].sum()\n",
    "casualties_other_weather = UK_accident[UK_accident[\"Weather_Conditions\"] == \"Other\"][\"Number_of_Casualties\"].sum()\n",
    "casualties_unknown_weather = UK_accident[UK_accident[\"Weather_Conditions\"] == \"unknown weather condition\"][\"Number_of_Casualties\"].sum()\n",
    "casualties_rain_high_wind_weather = UK_accident[UK_accident[\"Weather_Conditions\"] == \"Raining + high winds\"][\"Number_of_Casualties\"].sum()\n",
    "casualties_fine_high_wind_weather = UK_accident[UK_accident[\"Weather_Conditions\"] == \"Fine + high winds\"][\"Number_of_Casualties\"].sum()\n",
    "casualties_snow_no_wind_weather = UK_accident[UK_accident[\"Weather_Conditions\"] == \"Snowing no high winds\"][\"Number_of_Casualties\"].sum()\n",
    "casualties_fog_weather = UK_accident[UK_accident[\"Weather_Conditions\"] == \"Fog or mist\"][\"Number_of_Casualties\"].sum()\n",
    "casualties_snow_high_wind_weather = UK_accident[UK_accident[\"Weather_Conditions\"] == \"Snowing + high winds\"][\"Number_of_Casualties\"].sum()"
   ]
  },
  {
   "cell_type": "code",
   "execution_count": 46,
   "id": "4a4bf215",
   "metadata": {},
   "outputs": [],
   "source": [
    "all_casualties = (\n",
    "    casualties_fine_weather +\n",
    "    casualties_rain_no_wind_weather +\n",
    "    casualties_other_weather +\n",
    "    casualties_unknown_weather +\n",
    "    casualties_rain_high_wind_weather +\n",
    "    casualties_fine_high_wind_weather +\n",
    "    casualties_snow_no_wind_weather +\n",
    "    casualties_fog_weather +\n",
    "    casualties_snow_high_wind_weather\n",
    ")\n"
   ]
  },
  {
   "cell_type": "code",
   "execution_count": 47,
   "id": "bdc778c6",
   "metadata": {},
   "outputs": [
    {
     "data": {
      "text/markdown": [
       "### Number of casualties per weather conditions (as a percentage of the total):\n",
       "\n",
       "- Fine no high winds: 78.5%\n",
       "- Raining no high winds: 12.5%\n",
       "- Other: 2.6%\n",
       "- Unknown weather condition: 1.9%\n",
       "- Raining + high winds: 1.5%\n",
       "- Fine + high winds: 1.3%\n",
       "- Snowing no high winds: 0.9%\n",
       "- Fog or mist: 0.6%\n",
       "- Snowing + high winds: 0.1%\n",
       "---\n",
       "### **Conclusion:**\n",
       "- The **Fine no high winds** weather condition has the highest percentage contribution among all the weather conditions analyzed with **78.5%** of casualties recorded, indicating most deadly accidents occur in fine weather conditions.\n"
      ],
      "text/plain": [
       "<IPython.core.display.Markdown object>"
      ]
     },
     "metadata": {},
     "output_type": "display_data"
    }
   ],
   "source": [
    "output_casualties_weather = (\n",
    "    f\"### Number of casualties per weather conditions (as a percentage of the total):\\n\\n\"\n",
    "    f\"- Fine no high winds: {np.round(casualties_fine_weather / all_casualties * 100, 1)}%\\n\"\n",
    "    f\"- Raining no high winds: {np.round(casualties_rain_no_wind_weather / all_casualties * 100, 1)}%\\n\"\n",
    "    f\"- Other: {np.round(casualties_other_weather / all_casualties * 100, 1)}%\\n\"\n",
    "    f\"- Unknown weather condition: {np.round(casualties_unknown_weather / all_casualties * 100, 1)}%\\n\"\n",
    "    f\"- Raining + high winds: {np.round(casualties_rain_high_wind_weather / all_casualties * 100, 1)}%\\n\"\n",
    "    f\"- Fine + high winds: {np.round(casualties_fine_high_wind_weather / all_casualties * 100, 1)}%\\n\"\n",
    "    f\"- Snowing no high winds: {np.round(casualties_snow_no_wind_weather / all_casualties * 100, 1)}%\\n\"\n",
    "    f\"- Fog or mist: {np.round(casualties_fog_weather / all_casualties * 100, 1)}%\\n\"\n",
    "    f\"- Snowing + high winds: {np.round(casualties_snow_high_wind_weather / all_casualties * 100, 1)}%\\n\"\n",
    "    f\"---\\n\"\n",
    "    f\"### **Conclusion:**\\n\"\n",
    "    f\"- The **Fine no high winds** weather condition has the highest percentage contribution among all the weather conditions analyzed with **{np.round((casualties_fine_weather / all_casualties) * 100, 1)}%** of casualties recorded, indicating most deadly accidents occur in fine weather conditions.\\n\"\n",
    ")\n",
    "\n",
    "\n",
    "display(Markdown(output_casualties_weather))"
   ]
  },
  {
   "cell_type": "markdown",
   "id": "f4322eff",
   "metadata": {},
   "source": [
    "<div style=\"width: 100%; height: 20px; background-color: green;\"></div>"
   ]
  },
  {
   "cell_type": "markdown",
   "id": "7095906f",
   "metadata": {},
   "source": [
    "<p style=\"font-size: 17px; font-weight: bold;\">11. How much percentage of casualties in dry road conditions during fine weather conditions?</p>"
   ]
  },
  {
   "cell_type": "code",
   "execution_count": 48,
   "id": "d0d534e5",
   "metadata": {},
   "outputs": [],
   "source": [
    "casualties_fine_dry  = (dry_road) & casualties_fine_weather"
   ]
  },
  {
   "cell_type": "code",
   "execution_count": 49,
   "id": "8a8b9361",
   "metadata": {},
   "outputs": [],
   "source": [
    "casualties_fine_dry_percent = np.round(casualties_fine_dry / all_casualties * 100,2)"
   ]
  },
  {
   "cell_type": "code",
   "execution_count": 50,
   "id": "03855e96",
   "metadata": {},
   "outputs": [
    {
     "data": {
      "text/html": [
       "<p style=\"font-size: 20px; font-weight: bold\">The number of casualties in fine weather and dry road conditions are 169985 which is 18.96% of total casualties of UK accidents during 2019-2022.\n",
       "</p>"
      ],
      "text/plain": [
       "<IPython.core.display.HTML object>"
      ]
     },
     "metadata": {},
     "output_type": "display_data"
    }
   ],
   "source": [
    "print(f\"The number of casualties in fine weather and dry road conditions are {casualties_fine_dry} which is {casualties_fine_dry_percent}% of total casualties of UK accidents during 2019-2022.\")"
   ]
  },
  {
   "cell_type": "markdown",
   "id": "7183bab7",
   "metadata": {},
   "source": [
    "<div style=\"width: 100%; height: 20px; background-color: green;\"></div>"
   ]
  },
  {
   "cell_type": "markdown",
   "id": "34ee1a6e",
   "metadata": {},
   "source": [
    "<h1>Vehicles</h1>"
   ]
  },
  {
   "cell_type": "markdown",
   "id": "54b68474",
   "metadata": {},
   "source": [
    "<p style=\"font-size: 17px; font-weight: bold;\">12. Percentage of accidents per Vehicle</p>"
   ]
  },
  {
   "cell_type": "code",
   "execution_count": 51,
   "id": "9a01b197",
   "metadata": {},
   "outputs": [
    {
     "data": {
      "text/markdown": [
       "### Vehicle Type Accidents (as a percentage of the total):\n",
       "\n",
       "- **75.4%** Car\n",
       "- **5.2%** Van / Goods 3.5 tonnes mgw or under\n",
       "- **3.9%** Bus or coach (17 or more pass seats)\n",
       "- **3.9%** Motorcycle over 500cc\n",
       "- **2.6%** Goods 7.5 tonnes mgw and over\n",
       "- **2.3%** Motorcycle 125cc and under\n",
       "- **2.0%** Taxi/Private hire car\n",
       "- **1.2%** Motorcycle over 125cc and up to 500cc\n",
       "- **1.2%** Motorcycle 50cc and under\n",
       "- **0.9%** Goods over 3.5t. and under 7.5t\n",
       "- **0.9%** Other vehicle\n",
       "- **0.3%** Minibus (8 - 16 passenger seats)\n",
       "- **0.3%** Agricultural vehicle\n",
       "- **0.0%** Pedal cycle\n",
       "- **0.0%** Data missing or out of range\n",
       "- **0.0%** Ridden horse\n",
       "\n",
       "---\n",
       "### **Conclusion:**\n",
       "- The most common vehicle type involved in accidents is Car, with the highest percentage contribution: **75.4%**.\n",
       "- Other notable contributors include Van / Goods 3.5 tonnes mgw or under (**5.2%**) and Motorcycles (**8.5%** combined).\n"
      ],
      "text/plain": [
       "<IPython.core.display.Markdown object>"
      ]
     },
     "metadata": {},
     "output_type": "display_data"
    }
   ],
   "source": [
    "output_vehicle_types = (\n",
    "    f\"### Vehicle Type Accidents (as a percentage of the total):\\n\\n\"\n",
    "    f\"- **{np.round((vehicle_car / 660679) * 100, 1)}%** Car\\n\"\n",
    "    f\"- **{np.round((vehicle_van / 660679) * 100, 1)}%** Van / Goods 3.5 tonnes mgw or under\\n\"\n",
    "    f\"- **{np.round((vehicle_bus / 660679) * 100, 1)}%** Bus or coach (17 or more pass seats)\\n\"\n",
    "    f\"- **{np.round((vehicle_motor_500 / 660679) * 100, 1)}%** Motorcycle over 500cc\\n\"\n",
    "    f\"- **{np.round((vehicle_goods_7_5 / 660679) * 100, 1)}%** Goods 7.5 tonnes mgw and over\\n\"\n",
    "    f\"- **{np.round((vehicle_motor_125_down / 660679) * 100, 1)}%** Motorcycle 125cc and under\\n\"\n",
    "    f\"- **{np.round((vehicle_taxi / 660679) * 100, 1)}%** Taxi/Private hire car\\n\"\n",
    "    f\"- **{np.round((vehicle_motor_125_up / 660679) * 100, 1)}%** Motorcycle over 125cc and up to 500cc\\n\"\n",
    "    f\"- **{np.round((vehicle_motor_50 / 660679) * 100, 1)}%** Motorcycle 50cc and under\\n\"\n",
    "    f\"- **{np.round((vehicle_goods_3_5 / 660679) * 100, 1)}%** Goods over 3.5t. and under 7.5t\\n\"\n",
    "    f\"- **{np.round((vehicle_other / 660679) * 100, 1)}%** Other vehicle\\n\"\n",
    "    f\"- **{np.round((vehicle_minibus / 660679) * 100, 1)}%** Minibus (8 - 16 passenger seats)\\n\"\n",
    "    f\"- **{np.round((vehicle_agri / 660679) * 100, 1)}%** Agricultural vehicle\\n\"\n",
    "    f\"- **{np.round((vehicle_pedal / 660679) * 100, 1)}%** Pedal cycle\\n\"\n",
    "    f\"- **{np.round((vehicle_missing / 660679) * 100, 1)}%** Data missing or out of range\\n\"\n",
    "    f\"- **{np.round((vehicle_horse / 660679) * 100, 1)}%** Ridden horse\\n\\n\"\n",
    "    f\"---\\n\"\n",
    "    f\"### **Conclusion:**\\n\"\n",
    "    f\"- The most common vehicle type involved in accidents is Car, with the highest percentage contribution: **{np.round((vehicle_car / 660679) * 100, 1)}%**.\\n\"\n",
    "    f\"- Other notable contributors include Van / Goods 3.5 tonnes mgw or under (**{np.round((vehicle_van / 660679) * 100, 1)}%**) and Motorcycles (**{np.round(((vehicle_motor_500 + vehicle_motor_125_down + vehicle_motor_125_up + vehicle_motor_50) / 660679) * 100, 1)}%** combined).\\n\"\n",
    ")\n",
    "\n",
    "display(Markdown(output_vehicle_types))"
   ]
  },
  {
   "cell_type": "markdown",
   "id": "6f5348d1",
   "metadata": {},
   "source": [
    "<div style=\"width: 100%; height: 20px; background-color: green;\"></div>"
   ]
  },
  {
   "cell_type": "markdown",
   "id": "222712f5-c80f-4912-b56b-f68ac3ab1829",
   "metadata": {},
   "source": [
    "<h1>Rural And Urban</h1>"
   ]
  },
  {
   "cell_type": "markdown",
   "id": "22bcfcb3-58cf-4e6f-8d0f-03ac18630574",
   "metadata": {},
   "source": [
    "<p style=\"font-size: 17px; font-weight: bold;\">13. Urban and Rural accident distribution</p>"
   ]
  },
  {
   "cell_type": "code",
   "execution_count": 52,
   "id": "f75fa031-8aa9-4f49-9888-3aefdabe17da",
   "metadata": {},
   "outputs": [],
   "source": [
    "urban_rural= UK_accident['Urban_or_Rural_Area']"
   ]
  },
  {
   "cell_type": "code",
   "execution_count": 53,
   "id": "a7f44efe-6825-4e76-9236-0641e1419d54",
   "metadata": {},
   "outputs": [],
   "source": [
    "urban = (urban_rural == \"Urban\").sum()\n",
    "rural = (urban_rural == \"Rural\").sum()\n",
    "urban_rural_sum = urban + rural\n"
   ]
  },
  {
   "cell_type": "code",
   "execution_count": 54,
   "id": "3c40b056-4cc6-4157-a18c-37b6e8077106",
   "metadata": {},
   "outputs": [
    {
     "data": {
      "text/html": [
       "<p style=\"font-size: 20px; font-weight: bold\">The number of urban accidents are 421678 which is 63.8% and the rural accidents are 238990 which is 36.2%.\n",
       "</p>"
      ],
      "text/plain": [
       "<IPython.core.display.HTML object>"
      ]
     },
     "metadata": {},
     "output_type": "display_data"
    }
   ],
   "source": [
    "print(f\"The number of urban accidents are {urban} which is {np.round(urban / urban_rural_sum *100 ,1)}% and the rural accidents are {rural} which is {np.round(rural/urban_rural_sum *100,1)}%.\")"
   ]
  },
  {
   "cell_type": "markdown",
   "id": "429f2c43",
   "metadata": {},
   "source": [
    "<div style=\"width: 100%; height: 20px; background-color: green;\"></div>"
   ]
  },
  {
   "cell_type": "markdown",
   "id": "6428582d-c4b9-43ae-9d03-5bce1b3f0991",
   "metadata": {},
   "source": [
    "<p style=\"font-size: 17px; font-weight: bold;\">14. Urban accidents distribution accidents per vehicle</p>"
   ]
  },
  {
   "cell_type": "code",
   "execution_count": 55,
   "id": "69799c7b-18cb-4e0b-a0d0-b6f9d2260fe0",
   "metadata": {},
   "outputs": [],
   "source": [
    "urban_car = (UK_accident[\"Vehicle_Type\"] == \"Car\").sum() & urban\n",
    "urban_van = (UK_accident[\"Vehicle_Type\"] == \"Van / Goods 3.5 tonnes mgw or under\").sum() & urban\n",
    "urban_bus = (UK_accident[\"Vehicle_Type\"] == \"Bus or coach (17 or more pass seats)\").sum() & urban\n",
    "urban_motor_500 = (UK_accident[\"Vehicle_Type\"] == \"Motorcycle over 500cc\").sum() & urban\n",
    "urban_goods_7_5 = (UK_accident[\"Vehicle_Type\"] == \"Goods 7.5 tonnes mgw and over\").sum() & urban\n",
    "urban_motor_125_down = (UK_accident[\"Vehicle_Type\"] == \"Motorcycle 125cc and under\").sum() & urban\n",
    "urban_taxi = (UK_accident[\"Vehicle_Type\"] == \"Taxi/Private hire car\").sum() & urban\n",
    "urban_motor_125_up = (UK_accident[\"Vehicle_Type\"] == \"Motorcycle over 125cc and up to 500cc\").sum() & urban\n",
    "urban_motor_50 = (UK_accident[\"Vehicle_Type\"] == \"Motorcycle 50cc and under\").sum() & urban\n",
    "urban_goods_3_5 = (UK_accident[\"Vehicle_Type\"] == \"Goods over 3.5t. and under 7.5t\").sum() & urban\n",
    "urban_other = (UK_accident[\"Vehicle_Type\"] == \"Other vehicle\").sum() & urban\n",
    "urban_minibus = (UK_accident[\"Vehicle_Type\"] == \"Minibus (8 - 16 passenger seats)\").sum() & urban\n",
    "urban_agri = (UK_accident[\"Vehicle_Type\"] == \"Agricultural vehicle\").sum() & urban\n",
    "urban_pedal = (UK_accident[\"Vehicle_Type\"] == \"Pedal cycle\").sum() & urban\n",
    "urban_missing = (UK_accident[\"Vehicle_Type\"] == \"Data missing or out of range\").sum() & urban\n",
    "urban_horse = (UK_accident[\"Vehicle_Type\"] == \"Ridden horse\").sum() & urban"
   ]
  },
  {
   "cell_type": "code",
   "execution_count": 56,
   "id": "a45ba9f1-6a34-4b1e-ab54-25e3e7c33f19",
   "metadata": {},
   "outputs": [],
   "source": [
    "total_urban_vehicles = (\n",
    "    urban_car + urban_van + urban_bus + urban_motor_500 + urban_goods_7_5 +\n",
    "    urban_motor_125_down + urban_taxi + urban_motor_125_up + urban_motor_50 +\n",
    "    urban_goods_3_5 + urban_other + urban_minibus + urban_agri + urban_pedal +\n",
    "    urban_missing + urban_horse\n",
    ")"
   ]
  },
  {
   "cell_type": "code",
   "execution_count": 57,
   "id": "79289ef9-a235-4c10-abf4-4ea5a5e6a86e",
   "metadata": {},
   "outputs": [
    {
     "data": {
      "text/markdown": [
       "### Urban Vehicle Accidents (as a percentage of the total):\n",
       "\n",
       "- **79.2%** Car\n",
       "- **0.3%** Van / Goods 3.5 tonnes mgw or under\n",
       "- **5.2%** Bus or coach (17 or more pass seats)\n",
       "- **5.1%** Motorcycle over 500cc\n",
       "- **3.4%** Goods 7.5 tonnes mgw and over\n",
       "- **2.2%** Motorcycle 125cc and under\n",
       "- **1.8%** Taxi/Private hire car\n",
       "- **0.7%** Motorcycle over 125cc and up to 500cc\n",
       "- **0.7%** Motorcycle 50cc and under\n",
       "- **0.4%** Goods over 3.5t. and under 7.5t\n",
       "- **0.3%** Other vehicle\n",
       "- **0.4%** Minibus (8 - 16 passenger seats)\n",
       "- **0.4%** Agricultural vehicle\n",
       "- **0.0%** Pedal cycle\n",
       "- **0.0%** Data missing or out of range\n",
       "- **0.0%** Ridden horse\n",
       "\n",
       "---\n",
       "### **Urban Conclusion:**\n",
       "- The most common vehicle type involved in accidents in urban areas is Car, with the highest percentage contribution: (395528) **79.2%**.\n",
       "- Other notable contributors include Van / Goods 3.5 tonnes mgw or under (**0.3%**) and Motorcycles (**8.7%** combined).\n"
      ],
      "text/plain": [
       "<IPython.core.display.Markdown object>"
      ]
     },
     "metadata": {},
     "output_type": "display_data"
    }
   ],
   "source": [
    "output_vehicle_types_urban = (\n",
    "    f\"### Urban Vehicle Accidents (as a percentage of the total):\\n\\n\"\n",
    "    f\"- **{np.round((urban_car / total_urban_vehicles) * 100, 1)}%** Car\\n\"\n",
    "    f\"- **{np.round((urban_van / total_urban_vehicles) * 100, 1)}%** Van / Goods 3.5 tonnes mgw or under\\n\"\n",
    "    f\"- **{np.round((urban_bus / total_urban_vehicles) * 100, 1)}%** Bus or coach (17 or more pass seats)\\n\"\n",
    "    f\"- **{np.round((urban_motor_500 / total_urban_vehicles) * 100, 1)}%** Motorcycle over 500cc\\n\"\n",
    "    f\"- **{np.round((urban_goods_7_5 / total_urban_vehicles) * 100, 1)}%** Goods 7.5 tonnes mgw and over\\n\"\n",
    "    f\"- **{np.round((urban_motor_125_down / total_urban_vehicles) * 100, 1)}%** Motorcycle 125cc and under\\n\"\n",
    "    f\"- **{np.round((urban_taxi / total_urban_vehicles) * 100, 1)}%** Taxi/Private hire car\\n\"\n",
    "    f\"- **{np.round((urban_motor_125_up / total_urban_vehicles) * 100, 1)}%** Motorcycle over 125cc and up to 500cc\\n\"\n",
    "    f\"- **{np.round((urban_motor_50 / total_urban_vehicles) * 100, 1)}%** Motorcycle 50cc and under\\n\"\n",
    "    f\"- **{np.round((urban_goods_3_5 / total_urban_vehicles) * 100, 1)}%** Goods over 3.5t. and under 7.5t\\n\"\n",
    "    f\"- **{np.round((urban_other / total_urban_vehicles) * 100, 1)}%** Other vehicle\\n\"\n",
    "    f\"- **{np.round((urban_minibus / total_urban_vehicles) * 100, 1)}%** Minibus (8 - 16 passenger seats)\\n\"\n",
    "    f\"- **{np.round((urban_agri / total_urban_vehicles) * 100, 1)}%** Agricultural vehicle\\n\"\n",
    "    f\"- **{np.round((urban_pedal / total_urban_vehicles) * 100, 1)}%** Pedal cycle\\n\"\n",
    "    f\"- **{np.round((urban_missing / total_urban_vehicles) * 100, 1)}%** Data missing or out of range\\n\"\n",
    "    f\"- **{np.round((urban_horse / total_urban_vehicles) * 100, 1)}%** Ridden horse\\n\\n\"\n",
    "    f\"---\\n\"\n",
    "    f\"### **Urban Conclusion:**\\n\"\n",
    "    f\"- The most common vehicle type involved in accidents in urban areas is Car, with the highest percentage contribution: ({urban_car}) **{np.round((urban_car / total_urban_vehicles) * 100, 1)}%**.\\n\"\n",
    "    f\"- Other notable contributors include Van / Goods 3.5 tonnes mgw or under (**{np.round((urban_van / total_urban_vehicles) * 100, 1)}%**) and Motorcycles (**{np.round(((urban_motor_500 + urban_motor_125_down + urban_motor_125_up + urban_motor_50) / total_urban_vehicles) * 100, 1)}%** combined).\\n\"\n",
    ")\n",
    "\n",
    "display(Markdown(output_vehicle_types_urban))"
   ]
  },
  {
   "cell_type": "markdown",
   "id": "3366fc44-bef7-420e-84dc-fa86eadf6848",
   "metadata": {},
   "source": [
    "<p style=\"font-size: 17px; font-weight: bold;\">15. Rural accidents distribution accidents per vehicle</p>"
   ]
  },
  {
   "cell_type": "code",
   "execution_count": 58,
   "id": "afa3adeb-6cb3-4e9c-9993-2d59da14f69e",
   "metadata": {},
   "outputs": [],
   "source": [
    "rural_car = (UK_accident[\"Vehicle_Type\"] == \"Car\").sum() & rural\n",
    "rural_van = (UK_accident[\"Vehicle_Type\"] == \"Van / Goods 3.5 tonnes mgw or under\").sum() & rural\n",
    "rural_bus = (UK_accident[\"Vehicle_Type\"] == \"Bus or coach (17 or more pass seats)\").sum() & rural\n",
    "rural_motor_500 = (UK_accident[\"Vehicle_Type\"] == \"Motorcycle over 500cc\").sum() & rural\n",
    "rural_goods_7_5 = (UK_accident[\"Vehicle_Type\"] == \"Goods 7.5 tonnes mgw and over\").sum() & rural\n",
    "rural_motor_125_down = (UK_accident[\"Vehicle_Type\"] == \"Motorcycle 125cc and under\").sum() & rural\n",
    "rural_taxi = (UK_accident[\"Vehicle_Type\"] == \"Taxi/Private hire car\").sum() & rural\n",
    "rural_motor_125_up = (UK_accident[\"Vehicle_Type\"] == \"Motorcycle over 125cc and up to 500cc\").sum() & rural\n",
    "rural_motor_50 = (UK_accident[\"Vehicle_Type\"] == \"Motorcycle 50cc and under\").sum() & rural\n",
    "rural_goods_3_5 = (UK_accident[\"Vehicle_Type\"] == \"Goods over 3.5t. and under 7.5t\").sum() & rural\n",
    "rural_other = (UK_accident[\"Vehicle_Type\"] == \"Other vehicle\").sum() & rural\n",
    "rural_minibus = (UK_accident[\"Vehicle_Type\"] == \"Minibus (8 - 16 passenger seats)\").sum() & rural\n",
    "rural_agri = (UK_accident[\"Vehicle_Type\"] == \"Agricultural vehicle\").sum() & rural\n",
    "rural_pedal = (UK_accident[\"Vehicle_Type\"] == \"Pedal cycle\").sum() & rural\n",
    "rural_missing = (UK_accident[\"Vehicle_Type\"] == \"Data missing or out of range\").sum() & rural\n",
    "rural_horse = (UK_accident[\"Vehicle_Type\"] == \"Ridden horse\").sum() & rural"
   ]
  },
  {
   "cell_type": "code",
   "execution_count": 59,
   "id": "125c767e-de11-4d7c-ae94-304aafea56e8",
   "metadata": {},
   "outputs": [
    {
     "data": {
      "text/plain": [
       "807456"
      ]
     },
     "execution_count": 59,
     "metadata": {},
     "output_type": "execute_result"
    }
   ],
   "source": [
    "total_rural_vehicles = (\n",
    "    rural_car + rural_van + rural_bus + rural_motor_500 + rural_goods_7_5 +\n",
    "    rural_motor_125_down + rural_taxi + rural_motor_125_up + rural_motor_50 +\n",
    "    rural_goods_3_5 + rural_other + rural_minibus + rural_agri + rural_pedal +\n",
    "    rural_missing + rural_horse\n",
    ")\n",
    "total_urban_vehicles+ total_rural_vehicles"
   ]
  },
  {
   "cell_type": "code",
   "execution_count": 60,
   "id": "26c4afce-a649-47d3-8456-4c7f2185872e",
   "metadata": {},
   "outputs": [
    {
     "data": {
      "text/markdown": [
       "### Rural Vehicle Type Accidents (as a percentage of the total):\n",
       "\n",
       "- **74.5%** Car\n",
       "- **11.0%** Van / Goods 3.5 tonnes mgw or under\n",
       "- **3.1%** Bus or coach (17 or more pass seats)\n",
       "- **3.0%** Motorcycle over 500cc\n",
       "- **0.1%** Goods 7.5 tonnes mgw and over\n",
       "- **2.8%** Motorcycle 125cc and under\n",
       "- **2.8%** Taxi/Private hire car\n",
       "- **0.5%** Motorcycle over 125cc and up to 500cc\n",
       "- **0.5%** Motorcycle 50cc and under\n",
       "- **0.5%** Goods over 3.5t. and under 7.5t\n",
       "- **0.3%** Other vehicle\n",
       "- **0.5%** Minibus (8 - 16 passenger seats)\n",
       "- **0.5%** Agricultural vehicle\n",
       "- **0.0%** Pedal cycle\n",
       "- **0.0%** Data missing or out of range\n",
       "- **0.0%** Ridden horse\n",
       "\n",
       "---\n",
       "### **Rural Conclusion:**\n",
       "- The most common vehicle type involved in accidents in rural areas is Car, with the highest percentage contribution: **74.5%**.\n",
       "- Other notable contributors include Van / Goods 3.5 tonnes mgw or under (**11.0%**) and Motorcycles (**6.7%** combined).\n"
      ],
      "text/plain": [
       "<IPython.core.display.Markdown object>"
      ]
     },
     "metadata": {},
     "output_type": "display_data"
    }
   ],
   "source": [
    "output_vehicle_types_rural = (\n",
    "    f\"### Rural Vehicle Type Accidents (as a percentage of the total):\\n\\n\"\n",
    "    f\"- **{np.round((rural_car / total_rural_vehicles) * 100, 1)}%** Car\\n\"\n",
    "    f\"- **{np.round((rural_van / total_rural_vehicles) * 100, 1)}%** Van / Goods 3.5 tonnes mgw or under\\n\"\n",
    "    f\"- **{np.round((rural_bus / total_rural_vehicles) * 100, 1)}%** Bus or coach (17 or more pass seats)\\n\"\n",
    "    f\"- **{np.round((rural_motor_500 / total_rural_vehicles) * 100, 1)}%** Motorcycle over 500cc\\n\"\n",
    "    f\"- **{np.round((rural_goods_7_5 / total_rural_vehicles) * 100, 1)}%** Goods 7.5 tonnes mgw and over\\n\"\n",
    "    f\"- **{np.round((rural_motor_125_down / total_rural_vehicles) * 100, 1)}%** Motorcycle 125cc and under\\n\"\n",
    "    f\"- **{np.round((rural_taxi / total_rural_vehicles) * 100, 1)}%** Taxi/Private hire car\\n\"\n",
    "    f\"- **{np.round((rural_motor_125_up / total_rural_vehicles) * 100, 1)}%** Motorcycle over 125cc and up to 500cc\\n\"\n",
    "    f\"- **{np.round((rural_motor_50 / total_rural_vehicles) * 100, 1)}%** Motorcycle 50cc and under\\n\"\n",
    "    f\"- **{np.round((rural_goods_3_5 / total_rural_vehicles) * 100, 1)}%** Goods over 3.5t. and under 7.5t\\n\"\n",
    "    f\"- **{np.round((rural_other / total_rural_vehicles) * 100, 1)}%** Other vehicle\\n\"\n",
    "    f\"- **{np.round((rural_minibus / total_rural_vehicles) * 100, 1)}%** Minibus (8 - 16 passenger seats)\\n\"\n",
    "    f\"- **{np.round((rural_agri / total_rural_vehicles) * 100, 1)}%** Agricultural vehicle\\n\"\n",
    "    f\"- **{np.round((rural_pedal / total_rural_vehicles) * 100, 1)}%** Pedal cycle\\n\"\n",
    "    f\"- **{np.round((rural_missing / total_rural_vehicles) * 100, 1)}%** Data missing or out of range\\n\"\n",
    "    f\"- **{np.round((rural_horse / total_rural_vehicles) * 100, 1)}%** Ridden horse\\n\\n\"\n",
    "    f\"---\\n\"\n",
    "    f\"### **Rural Conclusion:**\\n\"\n",
    "    f\"- The most common vehicle type involved in accidents in rural areas is Car, with the highest percentage contribution: **{np.round((rural_car / total_rural_vehicles) * 100, 1)}%**.\\n\"\n",
    "    f\"- Other notable contributors include Van / Goods 3.5 tonnes mgw or under (**{np.round((rural_van / total_rural_vehicles) * 100, 1)}%**) and Motorcycles (**{np.round(((rural_motor_500 + rural_motor_125_down + rural_motor_125_up + rural_motor_50) / total_rural_vehicles) * 100, 1)}%** combined).\\n\"\n",
    ")\n",
    "\n",
    "display(Markdown(output_vehicle_types_rural))"
   ]
  },
  {
   "cell_type": "markdown",
   "id": "93a13ece",
   "metadata": {},
   "source": [
    "<div style=\"width: 100%; height: 20px; background-color: green;\"></div>"
   ]
  },
  {
   "cell_type": "markdown",
   "id": "bb373af3-d3d6-4865-afa8-e11bc8772485",
   "metadata": {},
   "source": [
    "<h1>Correlations</h1>"
   ]
  },
  {
   "cell_type": "markdown",
   "id": "298a609d-4f7b-4698-b32a-063294715c32",
   "metadata": {},
   "source": [
    "<p style=\"font-size: 17px; font-weight: bold;\">16. Does the number of vehicles have relationship to the number of casualties?</p>"
   ]
  },
  {
   "cell_type": "code",
   "execution_count": 61,
   "id": "5771f84e-2004-40ac-9768-771ac1c47673",
   "metadata": {},
   "outputs": [
    {
     "name": "stdout",
     "output_type": "stream",
     "text": [
      "<class 'pandas.core.frame.DataFrame'>\n",
      "RangeIndex: 660679 entries, 0 to 660678\n",
      "Data columns (total 18 columns):\n",
      " #   Column                   Non-Null Count   Dtype         \n",
      "---  ------                   --------------   -----         \n",
      " 0   Index                    660679 non-null  object        \n",
      " 1   Accident_Severity        660679 non-null  category      \n",
      " 2   Accident Date            660679 non-null  datetime64[ns]\n",
      " 3   Latitude                 660679 non-null  category      \n",
      " 4   Light_Conditions         660679 non-null  category      \n",
      " 5   District Area            660679 non-null  category      \n",
      " 6   Longitude                660679 non-null  category      \n",
      " 7   Number_of_Casualties     660679 non-null  int64         \n",
      " 8   Number_of_Vehicles       660679 non-null  int64         \n",
      " 9   Road_Surface_Conditions  660679 non-null  category      \n",
      " 10  Road_Type                660679 non-null  category      \n",
      " 11  Urban_or_Rural_Area      660679 non-null  category      \n",
      " 12  Weather_Conditions       660679 non-null  category      \n",
      " 13  Vehicle_Type             660679 non-null  category      \n",
      " 14  Day                      660679 non-null  int32         \n",
      " 15  Month                    660679 non-null  int32         \n",
      " 16  Year                     660679 non-null  int32         \n",
      " 17  DayOfWeek                660679 non-null  int32         \n",
      "dtypes: category(10), datetime64[ns](1), int32(4), int64(2), object(1)\n",
      "memory usage: 81.2+ MB\n"
     ]
    }
   ],
   "source": [
    "UK_accident.info()"
   ]
  },
  {
   "cell_type": "code",
   "execution_count": 62,
   "id": "59c262cb-d4c3-41e6-89f3-6e4b8f9485a6",
   "metadata": {},
   "outputs": [
    {
     "data": {
      "text/html": [
       "<p style=\"font-size: 20px; font-weight: bold\">Correlation between Number of casualties and number of vehicles: 0.23\n",
       "</p>"
      ],
      "text/plain": [
       "<IPython.core.display.HTML object>"
      ]
     },
     "metadata": {},
     "output_type": "display_data"
    },
    {
     "data": {
      "text/html": [
       "<p style=\"font-size: 20px; font-weight: bold\">This suggests that the correlation is weak, meaning the number of vehicles does not directly determine the number of casualties.\n",
       "</p>"
      ],
      "text/plain": [
       "<IPython.core.display.HTML object>"
      ]
     },
     "metadata": {},
     "output_type": "display_data"
    }
   ],
   "source": [
    "severity_casualty_corr = UK_accident['Number_of_Casualties'].corr(UK_accident['Number_of_Vehicles'])\n",
    "print(\"Correlation between Number of casualties and number of vehicles:\", np.round(severity_casualty_corr,2))\n",
    "print(\"This suggests that the correlation is weak, meaning the number of vehicles does not directly determine the number of casualties.\")"
   ]
  },
  {
   "cell_type": "markdown",
   "id": "6819d275",
   "metadata": {},
   "source": [
    "<div style=\"width: 100%; height: 20px; background-color: green;\"></div>"
   ]
  },
  {
   "cell_type": "markdown",
   "id": "4989a6c1-b8a4-455f-af6f-f533c58e1670",
   "metadata": {},
   "source": [
    "<p style=\"font-size: 17px; font-weight: bold;\">17.Does the area type (urban or rural) significantly affect the number of casualties in accidents?</p>"
   ]
  },
  {
   "cell_type": "code",
   "execution_count": 63,
   "id": "f656aea8-860e-4c11-9261-76b320108403",
   "metadata": {},
   "outputs": [],
   "source": [
    "urban_casualties=np.round(UK_accident[UK_accident['Urban_or_Rural_Area']==\"Urban\"][\"Number_of_Casualties\"],1)\n",
    "rural_casualties=np.round(UK_accident[UK_accident['Urban_or_Rural_Area']==\"Rural\"]['Number_of_Casualties'],1)\n",
    "\n"
   ]
  },
  {
   "cell_type": "code",
   "execution_count": 64,
   "id": "b2c395dd-584e-4ef6-b66e-bbc11663aefe",
   "metadata": {},
   "outputs": [],
   "source": [
    "cv,p_value=f_oneway(urban_casualties,rural_casualties)"
   ]
  },
  {
   "cell_type": "code",
   "execution_count": 65,
   "id": "e760cf56-c2d1-4b6b-87de-25120e81623a",
   "metadata": {},
   "outputs": [
    {
     "data": {
      "text/html": [
       "<p style=\"font-size: 20px; font-weight: bold\">0.0 weak correlation\n",
       "</p>"
      ],
      "text/plain": [
       "<IPython.core.display.HTML object>"
      ]
     },
     "metadata": {},
     "output_type": "display_data"
    }
   ],
   "source": [
    "if p_value > 0.5:\n",
    "    print(p_value, 'strong correlation')\n",
    "elif p_value < 0.5:\n",
    "    print(p_value, 'weak correlation')"
   ]
  },
  {
   "cell_type": "code",
   "execution_count": 66,
   "id": "6ede6e50-79a6-438b-8c49-2d74c0b1ae41",
   "metadata": {},
   "outputs": [
    {
     "data": {
      "text/html": [
       "<p style=\"font-size: 20px; font-weight: bold\">The analysis reveals a weak correlation between the area type (urban or rural) and the number of casualties. While there is a statistically significant difference in casualty numbers between urban and rural areas, the magnitude of this difference is small and lacks practical importance. This suggests that whether an area is urban or rural has limited influence on the number of casualties. Other factors, such as road conditions, vehicle types, or driver behavior, may play a more significant role in determining accident severity and should be explored further.\n",
       "</p>"
      ],
      "text/plain": [
       "<IPython.core.display.HTML object>"
      ]
     },
     "metadata": {},
     "output_type": "display_data"
    }
   ],
   "source": [
    "print(\n",
    "    \"The analysis reveals a weak correlation between the area type (urban or rural) and the number of casualties. \"\n",
    "    \"While there is a statistically significant difference in casualty numbers between urban and rural areas, \"\n",
    "    \"the magnitude of this difference is small and lacks practical importance. \"\n",
    "    \"This suggests that whether an area is urban or rural has limited influence on the number of casualties. \"\n",
    "    \"Other factors, such as road conditions, vehicle types, or driver behavior, may play a more significant role \"\n",
    "    \"in determining accident severity and should be explored further.\"\n",
    ")"
   ]
  },
  {
   "cell_type": "markdown",
   "id": "02917f36",
   "metadata": {},
   "source": [
    "<div style=\"width: 100%; height: 20px; background-color: green;\"></div>"
   ]
  },
  {
   "cell_type": "markdown",
   "id": "a93c95f1-9c04-489b-bf39-36fe424abf04",
   "metadata": {},
   "source": [
    "<h1>Accidents Severity and Casualties</h1>"
   ]
  },
  {
   "cell_type": "markdown",
   "id": "46712c37-0b1e-401f-92db-fc3c756d1879",
   "metadata": {},
   "source": [
    "<p style=\"font-size: 17px; font-weight: bold;\">18.Distribution of casualties in accidents severity</p>"
   ]
  },
  {
   "cell_type": "code",
   "execution_count": 67,
   "id": "0ff09bbf-990b-42c0-aa4f-85fb56db4dca",
   "metadata": {},
   "outputs": [],
   "source": [
    "total_casualties = UK_accident['Number_of_Casualties'].sum()\n",
    "severity_counts = UK_accident.groupby('Accident_Severity')['Number_of_Casualties'].sum()"
   ]
  },
  {
   "cell_type": "code",
   "execution_count": 68,
   "id": "795b48ca-7b74-4de5-9135-bd2ae55525cb",
   "metadata": {},
   "outputs": [
    {
     "data": {
      "text/markdown": [
       "### Casualty Severity Distribution (as a percentage of total casualties):\n",
       "\n",
       "- **83.7%** - Slight\n",
       "- **14.4%** - Serious\n",
       "- **1.8%** - Fatal\n",
       "\n",
       "---\n",
       "### **Conclusion on Severity Distribution:**\n",
       "The number of slight accident casualties is 750646, which is significantly higher compared to serious accidents **(129439)** and fatal accidents (16483)."
      ],
      "text/plain": [
       "<IPython.core.display.Markdown object>"
      ]
     },
     "metadata": {},
     "output_type": "display_data"
    }
   ],
   "source": [
    "output_severity_percentages = (\n",
    "    f\"### Casualty Severity Distribution (as a percentage of total casualties):\\n\\n\"\n",
    "    f\"- **{np.round((severity_counts['Slight'] / total_casualties) * 100, 1)}%** - Slight\\n\"\n",
    "    f\"- **{np.round((severity_counts['Serious'] / total_casualties) * 100, 1)}%** - Serious\\n\"\n",
    "    f\"- **{np.round((severity_counts['Fatal'] / total_casualties) * 100, 1)}%** - Fatal\\n\\n\"\n",
    "    f\"---\\n\"\n",
    "    f\"### **Conclusion on Severity Distribution:**\\n\"\n",
    "    f\"The number of slight accident casualties is {severity_counts['Slight']}, which is significantly higher \"\n",
    "    f\"compared to serious accidents **({severity_counts['Serious']})** and fatal accidents ({severity_counts['Fatal']}).\"\n",
    ")\n",
    "\n",
    "display(Markdown(output_severity_percentages))"
   ]
  },
  {
   "cell_type": "markdown",
   "id": "0ff6c9de",
   "metadata": {},
   "source": [
    "<div style=\"width: 100%; height: 20px; background-color: green;\"></div>"
   ]
  },
  {
   "cell_type": "markdown",
   "id": "ea572c72-1ad5-4b99-8a4e-51acebac7fe1",
   "metadata": {},
   "source": [
    "<p style=\"font-size: 17px; font-weight: bold;\">19.Correlation Between Number of Casualties and Accident Severity</p>"
   ]
  },
  {
   "cell_type": "code",
   "execution_count": 69,
   "id": "6c851640-a601-4249-a6de-b033b252abc5",
   "metadata": {},
   "outputs": [],
   "source": [
    "from scipy.stats import pearsonr"
   ]
  },
  {
   "cell_type": "code",
   "execution_count": 70,
   "id": "d03b67b4-d182-4216-af00-1af11d1d77bd",
   "metadata": {},
   "outputs": [],
   "source": [
    "severity_mapping = {\"Slight\": 1, \"Serious\": 2, \"Fatal\": 3}\n",
    "UK_accident['Severity_Numeric'] = UK_accident['Accident_Severity'].map(severity_mapping)\n",
    "correlation, p_value = pearsonr(UK_accident['Number_of_Casualties'], UK_accident['Severity_Numeric'])"
   ]
  },
  {
   "cell_type": "code",
   "execution_count": 71,
   "id": "58a1f82b-5829-4a45-909b-5ac1a1e98247",
   "metadata": {},
   "outputs": [
    {
     "data": {
      "text/markdown": [
       "### Correlation Between Number of Casualties and Accident Severity:\n",
       "\n",
       "- **Correlation Coefficient**: 0.09\n",
       "- **P-value**: 0.000\n",
       "\n",
       "---\n",
       "### **Conclusion on Casualties vs Severity Correlation:**\n",
       "- There is a weak positive correlation (0.09) between the number of casualties and accident severity.\n",
       "- This suggests that more severe accidents tend to involve more casualties.\n",
       "- The correlation is statistically significant (p-value = 0.000).\n"
      ],
      "text/plain": [
       "<IPython.core.display.Markdown object>"
      ]
     },
     "metadata": {},
     "output_type": "display_data"
    }
   ],
   "source": [
    "output_correlation_casualties_severity = (\n",
    "    f\"### Correlation Between Number of Casualties and Accident Severity:\\n\\n\"\n",
    "    f\"- **Correlation Coefficient**: {correlation:.2f}\\n\"\n",
    "    f\"- **P-value**: {p_value:.3f}\\n\\n\"\n",
    "    f\"---\\n\"\n",
    "    f\"### **Conclusion on Casualties vs Severity Correlation:**\\n\"\n",
    "    f\"- There is a {'moderate' if 0.3 <= abs(correlation) < 0.7 else 'weak' if abs(correlation) < 0.3 else 'strong'} \"\n",
    "    f\"positive correlation ({correlation:.2f}) between the number of casualties and accident severity.\\n\"\n",
    "    f\"- This suggests that more severe accidents tend to involve more casualties.\\n\"\n",
    "display(Markdown(output_correlation_casualties_severity))"
   ]
  },
  {
   "cell_type": "markdown",
   "id": "9fc81e26",
   "metadata": {},
   "source": [
    "<div style=\"width: 100%; height: 20px; background-color: green;\"></div>"
   ]
  },
  {
   "cell_type": "markdown",
   "id": "65c23476-bb5c-4e1e-b6d7-80099f944c5c",
   "metadata": {},
   "source": [
    "<p style=\"font-size: 17px; font-weight: bold;\">20. What percent of casualties does car have in slight accident?</p>"
   ]
  },
  {
   "cell_type": "code",
   "execution_count": 103,
   "id": "8a9b7199-503b-4e06-a791-4b42b331b62c",
   "metadata": {},
   "outputs": [],
   "source": [
    "casualties_slight_vehicle = UK_slight.groupby(\"Vehicle_Type\")[\"Number_of_Casualties\"].sum()\n"
   ]
  },
  {
   "cell_type": "code",
   "execution_count": 105,
   "id": "01bff9f4-475e-4d80-a8e9-87c201175494",
   "metadata": {},
   "outputs": [
    {
     "data": {
      "text/plain": [
       "750646"
      ]
     },
     "execution_count": 105,
     "metadata": {},
     "output_type": "execute_result"
    }
   ],
   "source": [
    "UK_slight[\"Number_of_Casualties\"].sum()"
   ]
  },
  {
   "cell_type": "code",
   "execution_count": 100,
   "id": "31e7de11-01e9-4ada-8b86-7e40abb068ae",
   "metadata": {},
   "outputs": [
    {
     "data": {
      "text/plain": [
       "Vehicle_Type\n",
       "Car                                      566562\n",
       "Van / Goods 3.5 tonnes mgw or under       38622\n",
       "Bus or coach (17 or more pass seats)      29268\n",
       "Motorcycle over 500cc                     29260\n",
       "Goods 7.5 tonnes mgw and over             19641\n",
       "Motorcycle 125cc and under                17079\n",
       "Taxi/Private hire car                     15250\n",
       "Motorcycle over 125cc and up to 500cc      8641\n",
       "Motorcycle 50cc and under                  8575\n",
       "Goods over 3.5t. and under 7.5t            6855\n",
       "Other vehicle                              6297\n",
       "Minibus (8 - 16 passenger seats)           2211\n",
       "Agricultural vehicle                       2160\n",
       "Pedal cycle                                 211\n",
       "Data missing or out of range                  9\n",
       "Ridden horse                                  5\n",
       "Name: Number_of_Casualties, dtype: int64"
      ]
     },
     "execution_count": 100,
     "metadata": {},
     "output_type": "execute_result"
    }
   ],
   "source": [
    "casualties_slight_vehicle.sort_values(ascending=False)"
   ]
  },
  {
   "cell_type": "code",
   "execution_count": 106,
   "id": "0399987f-b3a4-4635-b9d6-e6fa84935842",
   "metadata": {},
   "outputs": [
    {
     "data": {
      "text/html": [
       "<p style=\"font-size: 20px; font-weight: bold\">Car has most casualties having 566562 casualties whis is 75.5% of total casualties in slight accident\n",
       "</p>"
      ],
      "text/plain": [
       "<IPython.core.display.HTML object>"
      ]
     },
     "metadata": {},
     "output_type": "display_data"
    }
   ],
   "source": [
    "print(f\"Car has most casualties having 566562 casualties whis is {np.round(566562/750646 *100,1)}% of total casualties in slight accident\")"
   ]
  },
  {
   "cell_type": "code",
   "execution_count": null,
   "id": "69058c6a-d50f-4353-b1d1-fde2b5353fc1",
   "metadata": {},
   "outputs": [],
   "source": []
  }
 ],
 "metadata": {
  "kernelspec": {
   "display_name": "Python 3 (ipykernel)",
   "language": "python",
   "name": "python3"
  },
  "language_info": {
   "codemirror_mode": {
    "name": "ipython",
    "version": 3
   },
   "file_extension": ".py",
   "mimetype": "text/x-python",
   "name": "python",
   "nbconvert_exporter": "python",
   "pygments_lexer": "ipython3",
   "version": "3.11.3"
  }
 },
 "nbformat": 4,
 "nbformat_minor": 5
}
